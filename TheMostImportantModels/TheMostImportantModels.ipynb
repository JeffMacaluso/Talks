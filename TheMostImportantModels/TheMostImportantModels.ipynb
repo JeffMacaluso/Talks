{
 "cells": [
  {
   "cell_type": "markdown",
   "metadata": {},
   "source": [
    "# The Most Important Models of Your Data Science Career\n",
    "\n",
    "TODO: Talk about the value prop of this lecture, how this will talk about when to use what, overview of the three models covered\n",
    "\n",
    "TODO: Talk about interpretability vs. predictive power"
   ]
  },
  {
   "cell_type": "markdown",
   "metadata": {},
   "source": [
    "## Linear Models: Linear Regression and Logistic Regression\n",
    "\n",
    "<img src=\"https://raw.githubusercontent.com/JeffMacaluso/Talks/master/TheMostImportantModels/images/LinearRegression.png\" width=\"500\">\n",
    "\n",
    "TODO: Talk about -\n",
    "\n",
    "### What are they?\n",
    "\n",
    "Linear and logistic regression are known as linear models. They are the first models that are taught in the world of machine learning because they are simple, a fundamental building block, and extremely powerful. These models are used in many other fields - statistics, econometrics, finance, experimentation, etc., so you may have already know about them. These are going to be the most common models you will use because you should always train a linear model as a baseline when approaching any traditional machine learning problem. This is because they are extremely quick to train, don't require intense hyperparameter tuning, and they will help you understand what kind of reasonable performance you can obtain. Remember, in the real world, the time spent hyperparameter tuning more complex models is often better spent cleaning messy data. TODO: Reword this last sentence\n",
    "\n",
    "**Linear Regression**\n",
    "\n",
    "Also referred to as **o**rdinary **l**east **s**quares (OLS), ordinary regression, either univariate or multivariate regression (depending on how many features/predictors you are using), etc. TODO: Talk about what it is and why it's important\n",
    "\n",
    "**Logistic Regression**\n",
    "\n",
    "Also referred to as a **g**eneralized **l**inear **m**odel (GLM). TODO: Talk about how it's for classification.\n",
    "\n",
    "### How do they work?\n",
    "\n",
    "<img src=\"https://raw.githubusercontent.com/JeffMacaluso/Talks/master/TheMostImportantModels/images/LinearRegressionGradientDescent.gif\" width=\"1200\">\n",
    "\n",
    "- How quick they are to run\n",
    "    - Why they should always be used as a baseline model\n",
    "- Interpretability\n",
    "- Cons:\n",
    "    - A lot of assumptions\n",
    "    - Not robust to outliers\n",
    "    - Require linear assumption\n",
    "    - Show anscombe's quartet\n",
    "    \n",
    "```{python}\n",
    "import numpy as np\n",
    "import pandas as pd\n",
    "import matplotlib.pyplot as plt\n",
    "import seaborn as sns\n",
    "\n",
    "# Load the example dataset for Anscombe's quartet\n",
    "df = sns.load_dataset('anscombe')\n",
    "\n",
    "# Showing same mean/sd/percentiles for the predictor\n",
    "df.groupby('dataset')['x'].describe()\n",
    "\n",
    "# Show the results of a linear regression within each dataset\n",
    "sns.lmplot(x='x', y='y', col='dataset', hue='dataset', data=df,\n",
    "           col_wrap=2, ci=None, palette='muted', height=4,\n",
    "           scatter_kws={'s': 50, 'alpha': 1})\n",
    "```\n",
    "\n",
    "*Credit: Alykhan Tejani*"
   ]
  },
  {
   "cell_type": "code",
   "execution_count": null,
   "metadata": {},
   "outputs": [],
   "source": []
  },
  {
   "cell_type": "code",
   "execution_count": 2,
   "metadata": {
    "ExecuteTime": {
     "end_time": "2019-03-14T01:21:49.044467Z",
     "start_time": "2019-03-14T01:21:49.040465Z"
    }
   },
   "outputs": [],
   "source": [
    "import numpy as np\n",
    "import pandas as pd\n",
    "import matplotlib.pyplot as plt\n",
    "import seaborn as sns"
   ]
  },
  {
   "cell_type": "code",
   "execution_count": 31,
   "metadata": {
    "ExecuteTime": {
     "end_time": "2019-03-14T02:26:30.342307Z",
     "start_time": "2019-03-14T02:26:30.324306Z"
    }
   },
   "outputs": [
    {
     "data": {
      "text/html": [
       "<div>\n",
       "<style scoped>\n",
       "    .dataframe tbody tr th:only-of-type {\n",
       "        vertical-align: middle;\n",
       "    }\n",
       "\n",
       "    .dataframe tbody tr th {\n",
       "        vertical-align: top;\n",
       "    }\n",
       "\n",
       "    .dataframe thead th {\n",
       "        text-align: right;\n",
       "    }\n",
       "</style>\n",
       "<table border=\"1\" class=\"dataframe\">\n",
       "  <thead>\n",
       "    <tr style=\"text-align: right;\">\n",
       "      <th></th>\n",
       "      <th>mpg</th>\n",
       "      <th>cylinders</th>\n",
       "      <th>displacement</th>\n",
       "      <th>horsepower</th>\n",
       "      <th>weight</th>\n",
       "      <th>acceleration</th>\n",
       "      <th>model_year</th>\n",
       "      <th>origin</th>\n",
       "      <th>name</th>\n",
       "    </tr>\n",
       "  </thead>\n",
       "  <tbody>\n",
       "    <tr>\n",
       "      <th>0</th>\n",
       "      <td>18.0</td>\n",
       "      <td>8</td>\n",
       "      <td>307.0</td>\n",
       "      <td>130.0</td>\n",
       "      <td>3504</td>\n",
       "      <td>12.0</td>\n",
       "      <td>70</td>\n",
       "      <td>usa</td>\n",
       "      <td>chevrolet chevelle malibu</td>\n",
       "    </tr>\n",
       "    <tr>\n",
       "      <th>1</th>\n",
       "      <td>15.0</td>\n",
       "      <td>8</td>\n",
       "      <td>350.0</td>\n",
       "      <td>165.0</td>\n",
       "      <td>3693</td>\n",
       "      <td>11.5</td>\n",
       "      <td>70</td>\n",
       "      <td>usa</td>\n",
       "      <td>buick skylark 320</td>\n",
       "    </tr>\n",
       "    <tr>\n",
       "      <th>2</th>\n",
       "      <td>18.0</td>\n",
       "      <td>8</td>\n",
       "      <td>318.0</td>\n",
       "      <td>150.0</td>\n",
       "      <td>3436</td>\n",
       "      <td>11.0</td>\n",
       "      <td>70</td>\n",
       "      <td>usa</td>\n",
       "      <td>plymouth satellite</td>\n",
       "    </tr>\n",
       "    <tr>\n",
       "      <th>3</th>\n",
       "      <td>16.0</td>\n",
       "      <td>8</td>\n",
       "      <td>304.0</td>\n",
       "      <td>150.0</td>\n",
       "      <td>3433</td>\n",
       "      <td>12.0</td>\n",
       "      <td>70</td>\n",
       "      <td>usa</td>\n",
       "      <td>amc rebel sst</td>\n",
       "    </tr>\n",
       "    <tr>\n",
       "      <th>4</th>\n",
       "      <td>17.0</td>\n",
       "      <td>8</td>\n",
       "      <td>302.0</td>\n",
       "      <td>140.0</td>\n",
       "      <td>3449</td>\n",
       "      <td>10.5</td>\n",
       "      <td>70</td>\n",
       "      <td>usa</td>\n",
       "      <td>ford torino</td>\n",
       "    </tr>\n",
       "  </tbody>\n",
       "</table>\n",
       "</div>"
      ],
      "text/plain": [
       "    mpg  cylinders  displacement  horsepower  weight  acceleration  \\\n",
       "0  18.0          8         307.0       130.0    3504          12.0   \n",
       "1  15.0          8         350.0       165.0    3693          11.5   \n",
       "2  18.0          8         318.0       150.0    3436          11.0   \n",
       "3  16.0          8         304.0       150.0    3433          12.0   \n",
       "4  17.0          8         302.0       140.0    3449          10.5   \n",
       "\n",
       "   model_year origin                       name  \n",
       "0          70    usa  chevrolet chevelle malibu  \n",
       "1          70    usa          buick skylark 320  \n",
       "2          70    usa         plymouth satellite  \n",
       "3          70    usa              amc rebel sst  \n",
       "4          70    usa                ford torino  "
      ]
     },
     "execution_count": 31,
     "metadata": {},
     "output_type": "execute_result"
    }
   ],
   "source": [
    "df = sns.load_dataset('mpg').dropna()\n",
    "df.head()"
   ]
  },
  {
   "cell_type": "code",
   "execution_count": 40,
   "metadata": {
    "ExecuteTime": {
     "end_time": "2019-03-14T02:30:00.185888Z",
     "start_time": "2019-03-14T02:30:00.178883Z"
    }
   },
   "outputs": [
    {
     "name": "stdout",
     "output_type": "stream",
     "text": [
      "-0.3979283590642208\n",
      "-8.313012222574152e-05\n",
      "-0.045257080150839846\n",
      "-0.005186917347611087\n",
      "-0.02910471399018394\n"
     ]
    }
   ],
   "source": [
    "from sklearn.linear_model import LinearRegression\n",
    "\n",
    "linear_regression_model = LinearRegression()\n",
    "\n",
    "features = df[['cylinders', 'displacement', 'horsepower', 'weight', 'acceleration']]\n",
    "label = df['mpg']\n",
    "\n",
    "linear_regression_model.fit(features, label)\n",
    "\n",
    "for coef in linear_regression_model.coef_:\n",
    "    print(coef)"
   ]
  },
  {
   "cell_type": "code",
   "execution_count": 62,
   "metadata": {
    "ExecuteTime": {
     "end_time": "2019-03-14T02:33:43.497215Z",
     "start_time": "2019-03-14T02:33:43.476215Z"
    }
   },
   "outputs": [
    {
     "name": "stdout",
     "output_type": "stream",
     "text": [
      "                            OLS Regression Results                            \n",
      "==============================================================================\n",
      "Dep. Variable:                    mpg   R-squared:                       0.708\n",
      "Model:                            OLS   Adj. R-squared:                  0.704\n",
      "Method:                 Least Squares   F-statistic:                     186.9\n",
      "Date:                Wed, 13 Mar 2019   Prob (F-statistic):          9.82e-101\n",
      "Time:                        19:33:43   Log-Likelihood:                -1120.1\n",
      "No. Observations:                 392   AIC:                             2252.\n",
      "Df Residuals:                     386   BIC:                             2276.\n",
      "Df Model:                           5                                         \n",
      "Covariance Type:            nonrobust                                         \n",
      "================================================================================\n",
      "                   coef    std err          t      P>|t|      [0.025      0.975]\n",
      "--------------------------------------------------------------------------------\n",
      "cylinders       -0.3979      0.411     -0.969      0.333      -1.205       0.409\n",
      "displacement -8.313e-05      0.009     -0.009      0.993      -0.018       0.018\n",
      "horsepower      -0.0453      0.017     -2.716      0.007      -0.078      -0.012\n",
      "weight          -0.0052      0.001     -6.351      0.000      -0.007      -0.004\n",
      "acceleration    -0.0291      0.126     -0.231      0.817      -0.276       0.218\n",
      "const           46.2643      2.669     17.331      0.000      41.016      51.513\n",
      "==============================================================================\n",
      "Omnibus:                       38.561   Durbin-Watson:                   0.865\n",
      "Prob(Omnibus):                  0.000   Jarque-Bera (JB):               52.737\n",
      "Skew:                           0.706   Prob(JB):                     3.53e-12\n",
      "Kurtosis:                       4.111   Cond. No.                     3.87e+04\n",
      "==============================================================================\n",
      "\n",
      "Warnings:\n",
      "[1] Standard Errors assume that the covariance matrix of the errors is correctly specified.\n",
      "[2] The condition number is large, 3.87e+04. This might indicate that there are\n",
      "strong multicollinearity or other numerical problems.\n"
     ]
    }
   ],
   "source": [
    "import statsmodels.api as sm\n",
    "\n",
    "# Adding the intercept constant for the statsmodels API\n",
    "features_for_statsmodels_api = sm.add_constant(features, prepend=False)\n",
    "\n",
    "mod = sm.OLS(label, features_for_statsmodels_api)\n",
    "res = mod.fit()\n",
    "print(res.summary())"
   ]
  },
  {
   "cell_type": "code",
   "execution_count": 17,
   "metadata": {
    "ExecuteTime": {
     "end_time": "2019-03-14T01:37:05.861872Z",
     "start_time": "2019-03-14T01:37:05.666873Z"
    }
   },
   "outputs": [
    {
     "data": {
      "text/plain": [
       "<seaborn.axisgrid.FacetGrid at 0x22bf3c96f28>"
      ]
     },
     "execution_count": 17,
     "metadata": {},
     "output_type": "execute_result"
    },
    {
     "data": {
      "image/png": "[encoded data removed]",
      "text/plain": [
       "<Figure size 360x360 with 1 Axes>"
      ]
     },
     "metadata": {},
     "output_type": "display_data"
    }
   ],
   "source": [
    "sns.lmplot(x='x', y='y', data=df[df['dataset'] == 'I'], ci=None)"
   ]
  },
  {
   "cell_type": "code",
   "execution_count": 19,
   "metadata": {
    "ExecuteTime": {
     "end_time": "2019-03-14T01:38:05.547871Z",
     "start_time": "2019-03-14T01:38:05.543870Z"
    }
   },
   "outputs": [],
   "source": [
    "from sklearn.linear_model import LinearRegression\n",
    "\n",
    "linear_regression_model = LinearRegression()"
   ]
  },
  {
   "cell_type": "code",
   "execution_count": 4,
   "metadata": {
    "ExecuteTime": {
     "end_time": "2019-03-14T01:22:41.318682Z",
     "start_time": "2019-03-14T01:22:40.700674Z"
    }
   },
   "outputs": [
    {
     "data": {
      "text/plain": [
       "<seaborn.axisgrid.FacetGrid at 0x22bf2208860>"
      ]
     },
     "execution_count": 4,
     "metadata": {},
     "output_type": "execute_result"
    },
    {
     "data": {
      "image/png": "[encoded data removed]",
      "text/plain": [
       "<Figure size 576x576 with 4 Axes>"
      ]
     },
     "metadata": {},
     "output_type": "display_data"
    }
   ],
   "source": [
    "# Load the example dataset for Anscombe's quartet\n",
    "df = sns.load_dataset(\"anscombe\")\n",
    "\n",
    "# Show the results of a linear regression within each dataset\n",
    "sns.lmplot(x=\"x\", y=\"y\", col=\"dataset\", hue=\"dataset\", data=df,\n",
    "           col_wrap=2, ci=None, palette=\"muted\", height=4,\n",
    "           scatter_kws={\"s\": 50, \"alpha\": 1})"
   ]
  },
  {
   "cell_type": "code",
   "execution_count": 9,
   "metadata": {
    "ExecuteTime": {
     "end_time": "2019-03-14T01:28:49.731409Z",
     "start_time": "2019-03-14T01:28:49.708407Z"
    }
   },
   "outputs": [
    {
     "data": {
      "text/html": [
       "<div>\n",
       "<style scoped>\n",
       "    .dataframe tbody tr th:only-of-type {\n",
       "        vertical-align: middle;\n",
       "    }\n",
       "\n",
       "    .dataframe tbody tr th {\n",
       "        vertical-align: top;\n",
       "    }\n",
       "\n",
       "    .dataframe thead th {\n",
       "        text-align: right;\n",
       "    }\n",
       "</style>\n",
       "<table border=\"1\" class=\"dataframe\">\n",
       "  <thead>\n",
       "    <tr style=\"text-align: right;\">\n",
       "      <th></th>\n",
       "      <th>count</th>\n",
       "      <th>mean</th>\n",
       "      <th>std</th>\n",
       "      <th>min</th>\n",
       "      <th>25%</th>\n",
       "      <th>50%</th>\n",
       "      <th>75%</th>\n",
       "      <th>max</th>\n",
       "    </tr>\n",
       "    <tr>\n",
       "      <th>dataset</th>\n",
       "      <th></th>\n",
       "      <th></th>\n",
       "      <th></th>\n",
       "      <th></th>\n",
       "      <th></th>\n",
       "      <th></th>\n",
       "      <th></th>\n",
       "      <th></th>\n",
       "    </tr>\n",
       "  </thead>\n",
       "  <tbody>\n",
       "    <tr>\n",
       "      <th>I</th>\n",
       "      <td>11.0</td>\n",
       "      <td>9.0</td>\n",
       "      <td>3.316625</td>\n",
       "      <td>4.0</td>\n",
       "      <td>6.5</td>\n",
       "      <td>9.0</td>\n",
       "      <td>11.5</td>\n",
       "      <td>14.0</td>\n",
       "    </tr>\n",
       "    <tr>\n",
       "      <th>II</th>\n",
       "      <td>11.0</td>\n",
       "      <td>9.0</td>\n",
       "      <td>3.316625</td>\n",
       "      <td>4.0</td>\n",
       "      <td>6.5</td>\n",
       "      <td>9.0</td>\n",
       "      <td>11.5</td>\n",
       "      <td>14.0</td>\n",
       "    </tr>\n",
       "    <tr>\n",
       "      <th>III</th>\n",
       "      <td>11.0</td>\n",
       "      <td>9.0</td>\n",
       "      <td>3.316625</td>\n",
       "      <td>4.0</td>\n",
       "      <td>6.5</td>\n",
       "      <td>9.0</td>\n",
       "      <td>11.5</td>\n",
       "      <td>14.0</td>\n",
       "    </tr>\n",
       "    <tr>\n",
       "      <th>IV</th>\n",
       "      <td>11.0</td>\n",
       "      <td>9.0</td>\n",
       "      <td>3.316625</td>\n",
       "      <td>8.0</td>\n",
       "      <td>8.0</td>\n",
       "      <td>8.0</td>\n",
       "      <td>8.0</td>\n",
       "      <td>19.0</td>\n",
       "    </tr>\n",
       "  </tbody>\n",
       "</table>\n",
       "</div>"
      ],
      "text/plain": [
       "         count  mean       std  min  25%  50%   75%   max\n",
       "dataset                                                  \n",
       "I         11.0   9.0  3.316625  4.0  6.5  9.0  11.5  14.0\n",
       "II        11.0   9.0  3.316625  4.0  6.5  9.0  11.5  14.0\n",
       "III       11.0   9.0  3.316625  4.0  6.5  9.0  11.5  14.0\n",
       "IV        11.0   9.0  3.316625  8.0  8.0  8.0   8.0  19.0"
      ]
     },
     "execution_count": 9,
     "metadata": {},
     "output_type": "execute_result"
    }
   ],
   "source": [
    "df.groupby('dataset')['x'].describe()"
   ]
  },
  {
   "cell_type": "markdown",
   "metadata": {},
   "source": [
    "## Decision Trees: Classification and Regression Trees (CART)\n",
    "\n",
    "<img src=\"https://raw.githubusercontent.com/JeffMacaluso/Talks/master/TheMostImportantModels/images/DecisionTreeIllustration.png\">\n",
    "\n",
    "TODO: Talk about -\n",
    "- What they are\n",
    "- How they work\n",
    "    - Show [this blog post](http://www.r2d3.us/visual-intro-to-machine-learning-part-1/)\n",
    "- How quick they are to run\n",
    "- Interpretability\n",
    "    - Only to a certain point\n",
    "- Con: Prone to overfitting\n",
    "\n",
    "<img src=\"https://clearpredictions.com/Images/tree-infographic.png\" width=\"1200\">"
   ]
  },
  {
   "cell_type": "code",
   "execution_count": null,
   "metadata": {},
   "outputs": [],
   "source": []
  },
  {
   "cell_type": "markdown",
   "metadata": {},
   "source": [
    "## Random Forests\n",
    "\n",
    "<img src=\"https://raw.githubusercontent.com/JeffMacaluso/Talks/master/TheMostImportantModels/images/RandomForestDiagram.png\">\n",
    "\n",
    "TODO: Talk about -\n",
    "- What they are\n",
    "- How they work\n",
    "- How quick they are to run\n",
    "- Interpretability\n",
    "    - Only to a certain point\n",
    "- Con: Prone to overfitting"
   ]
  },
  {
   "cell_type": "code",
   "execution_count": null,
   "metadata": {},
   "outputs": [],
   "source": []
  }
 ],
 "metadata": {
  "kernelspec": {
   "display_name": "Python 3",
   "language": "python",
   "name": "python3"
  },
  "language_info": {
   "codemirror_mode": {
    "name": "ipython",
    "version": 3
   },
   "file_extension": ".py",
   "mimetype": "text/x-python",
   "name": "python",
   "nbconvert_exporter": "python",
   "pygments_lexer": "ipython3",
   "version": "3.6.6"
  },
  "varInspector": {
   "cols": {
    "lenName": 16,
    "lenType": 16,
    "lenVar": 40
   },
   "kernels_config": {
    "python": {
     "delete_cmd_postfix": "",
     "delete_cmd_prefix": "del ",
     "library": "var_list.py",
     "varRefreshCmd": "print(var_dic_list())"
    },
    "r": {
     "delete_cmd_postfix": ") ",
     "delete_cmd_prefix": "rm(",
     "library": "var_list.r",
     "varRefreshCmd": "cat(var_dic_list()) "
    }
   },
   "types_to_exclude": [
    "module",
    "function",
    "builtin_function_or_method",
    "instance",
    "_Feature"
   ],
   "window_display": false
  }
 },
 "nbformat": 4,
 "nbformat_minor": 2
}
