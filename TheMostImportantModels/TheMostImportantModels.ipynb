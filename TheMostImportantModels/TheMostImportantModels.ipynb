{
 "cells": [
  {
   "cell_type": "markdown",
   "metadata": {},
   "source": [
    "# The Most Important Models of Your Data Science Career\n",
    "\n",
    "TODO: Talk about the value prop of this lecture, how this will talk about when to use what, overview of the three models covered\n",
    "\n",
    "TODO: Talk about interpretability vs. predictive power"
   ]
  },
  {
   "cell_type": "markdown",
   "metadata": {},
   "source": [
    "## Linear Models: Linear Regression and Logistic Regression\n",
    "\n",
    "<img src=\"https://raw.githubusercontent.com/JeffMacaluso/Talks/master/TheMostImportantModels/images/LinearRegression.png\" width=\"500\">\n",
    "\n",
    "TODO: Talk about -\n",
    "\n",
    "### What are they?\n",
    "\n",
    "Linear and logistic regression are known as linear models. They are the first models that are taught in the world of machine learning because they are simple, a fundamental building block, and extremely powerful. These models are used in many other fields - statistics, econometrics, finance, experimentation, etc., so you may have already know about them. These are going to be the most common models you will use because you should always train a linear model as a baseline when approaching any traditional machine learning problem. This is because they are extremely quick to train, don't require intense hyperparameter tuning, and they will help you understand what kind of reasonable performance you can obtain. Remember, in the real world, the time spent hyperparameter tuning more complex models is often better spent cleaning messy data. TODO: Reword this last sentence\n",
    "\n",
    "**Linear Regression**\n",
    "\n",
    "Also referred to as **o**rdinary **l**east **s**quares (OLS), ordinary regression, either univariate or multivariate regression (depending on how many features/predictors you are using), etc. TODO: Talk about what it is and why it's important\n",
    "\n",
    "**Logistic Regression**\n",
    "\n",
    "Also referred to as a **g**eneralized **l**inear **m**odel (GLM). TODO: Talk about how it's for classification.\n",
    "\n",
    "### How do they work?\n",
    "\n",
    "At a high level, linear models try to fit a line through observations in a way that minimizes the [error](https://en.wikipedia.org/wiki/Errors_and_residuals), or the distance from the observation to the line from our model. This can be done in a closed form solution with the [normal equation](http://mlwiki.org/index.php/Normal_Equation), or it can be done with an optimization algorithm.\n",
    "\n",
    "Below is an example of fitting a univariate (only one feature/predictor/variable) linear regression model with [gradient descent](https://en.wikipedia.org/wiki/Gradient_descent), an optimization model that minimizes error by taking a series of \"steps\" to decrease the error. If you are interested in the math behind this, you can see [this notebook](https://nbviewer.jupyter.org/github/JeffMacaluso/Misc/blob/master/MachineLearningMOOC/Ex1%20Python%20-%20Linear%20Regression.ipynb) for implementing linear regression with both the normal equation and gradient descent from scratch.\n",
    "\n",
    "<img src=\"https://raw.githubusercontent.com/JeffMacaluso/Talks/master/TheMostImportantModels/images/LinearRegressionGradientDescent.gif\" width=\"1200\">\n",
    "\n",
    "*Credit: Alykhan Tejani*\n",
    "\n",
    "We'll skip over logistic regression for purpose of time, but many of the concepts are the same.\n",
    "\n",
    "### Linear Regression Example\n",
    "\n",
    "In this section we'll train our first linear regression on a dataset that will let us predict the fuel economy of a car based off of several attributes. We'll then talk about why a linear model should always be used as a baseline, how interpretable they are, and some of the weaknesses of linear regression if we aren't careful with our data.\n",
    "\n",
    "First, starting with importing some standard Python libraries for data science. These should all be included with the Anaconda distribution of Python, and you should absolutely install them if you don't have them."
   ]
  },
  {
   "cell_type": "code",
   "execution_count": 16,
   "metadata": {
    "ExecuteTime": {
     "end_time": "2019-03-16T01:05:17.519581Z",
     "start_time": "2019-03-16T01:05:17.516581Z"
    }
   },
   "outputs": [],
   "source": [
    "# Overall setup with library imports and notebook settings\n",
    "import time  # For timing model training\n",
    "import numpy as np  # Multidimensional arrays\n",
    "import pandas as pd  # Data frames & manipulation (built on NumPy)\n",
    "import matplotlib.pyplot as plt  # Plotting\n",
    "import seaborn as sns  # Plotting (built on matplotlib)\n",
    "import sklearn  # Machine learning\n",
    "\n",
    "# Rendering plots within the Jupyter notebook\n",
    "%matplotlib inline"
   ]
  },
  {
   "cell_type": "markdown",
   "metadata": {},
   "source": [
    "Next, importing our dataset of the cars and previewing the first few rows:"
   ]
  },
  {
   "cell_type": "code",
   "execution_count": 82,
   "metadata": {
    "ExecuteTime": {
     "end_time": "2019-03-16T01:44:34.207111Z",
     "start_time": "2019-03-16T01:44:34.188117Z"
    }
   },
   "outputs": [
    {
     "name": "stdout",
     "output_type": "stream",
     "text": [
      "Data frame shape: (392, 9)\n"
     ]
    },
    {
     "data": {
      "text/html": [
       "<div>\n",
       "<style scoped>\n",
       "    .dataframe tbody tr th:only-of-type {\n",
       "        vertical-align: middle;\n",
       "    }\n",
       "\n",
       "    .dataframe tbody tr th {\n",
       "        vertical-align: top;\n",
       "    }\n",
       "\n",
       "    .dataframe thead th {\n",
       "        text-align: right;\n",
       "    }\n",
       "</style>\n",
       "<table border=\"1\" class=\"dataframe\">\n",
       "  <thead>\n",
       "    <tr style=\"text-align: right;\">\n",
       "      <th></th>\n",
       "      <th>mpg</th>\n",
       "      <th>cylinders</th>\n",
       "      <th>displacement</th>\n",
       "      <th>horsepower</th>\n",
       "      <th>weight</th>\n",
       "      <th>acceleration</th>\n",
       "      <th>model_year</th>\n",
       "      <th>origin</th>\n",
       "      <th>name</th>\n",
       "    </tr>\n",
       "  </thead>\n",
       "  <tbody>\n",
       "    <tr>\n",
       "      <th>0</th>\n",
       "      <td>18.0</td>\n",
       "      <td>8</td>\n",
       "      <td>307.0</td>\n",
       "      <td>130.0</td>\n",
       "      <td>3504</td>\n",
       "      <td>12.0</td>\n",
       "      <td>70</td>\n",
       "      <td>usa</td>\n",
       "      <td>chevrolet chevelle malibu</td>\n",
       "    </tr>\n",
       "    <tr>\n",
       "      <th>1</th>\n",
       "      <td>15.0</td>\n",
       "      <td>8</td>\n",
       "      <td>350.0</td>\n",
       "      <td>165.0</td>\n",
       "      <td>3693</td>\n",
       "      <td>11.5</td>\n",
       "      <td>70</td>\n",
       "      <td>usa</td>\n",
       "      <td>buick skylark 320</td>\n",
       "    </tr>\n",
       "    <tr>\n",
       "      <th>2</th>\n",
       "      <td>18.0</td>\n",
       "      <td>8</td>\n",
       "      <td>318.0</td>\n",
       "      <td>150.0</td>\n",
       "      <td>3436</td>\n",
       "      <td>11.0</td>\n",
       "      <td>70</td>\n",
       "      <td>usa</td>\n",
       "      <td>plymouth satellite</td>\n",
       "    </tr>\n",
       "    <tr>\n",
       "      <th>3</th>\n",
       "      <td>16.0</td>\n",
       "      <td>8</td>\n",
       "      <td>304.0</td>\n",
       "      <td>150.0</td>\n",
       "      <td>3433</td>\n",
       "      <td>12.0</td>\n",
       "      <td>70</td>\n",
       "      <td>usa</td>\n",
       "      <td>amc rebel sst</td>\n",
       "    </tr>\n",
       "    <tr>\n",
       "      <th>4</th>\n",
       "      <td>17.0</td>\n",
       "      <td>8</td>\n",
       "      <td>302.0</td>\n",
       "      <td>140.0</td>\n",
       "      <td>3449</td>\n",
       "      <td>10.5</td>\n",
       "      <td>70</td>\n",
       "      <td>usa</td>\n",
       "      <td>ford torino</td>\n",
       "    </tr>\n",
       "  </tbody>\n",
       "</table>\n",
       "</div>"
      ],
      "text/plain": [
       "    mpg  cylinders  displacement  horsepower  weight  acceleration  \\\n",
       "0  18.0          8         307.0       130.0    3504          12.0   \n",
       "1  15.0          8         350.0       165.0    3693          11.5   \n",
       "2  18.0          8         318.0       150.0    3436          11.0   \n",
       "3  16.0          8         304.0       150.0    3433          12.0   \n",
       "4  17.0          8         302.0       140.0    3449          10.5   \n",
       "\n",
       "   model_year origin                       name  \n",
       "0          70    usa  chevrolet chevelle malibu  \n",
       "1          70    usa          buick skylark 320  \n",
       "2          70    usa         plymouth satellite  \n",
       "3          70    usa              amc rebel sst  \n",
       "4          70    usa                ford torino  "
      ]
     },
     "execution_count": 82,
     "metadata": {},
     "output_type": "execute_result"
    }
   ],
   "source": [
    "# Importing the dataset\n",
    "df = sns.load_dataset('mpg').dropna()\n",
    "print('Data frame shape:', df.shape)  # Reporting on the number of observations\n",
    "df.head()  # Previewing the data frame"
   ]
  },
  {
   "cell_type": "markdown",
   "metadata": {},
   "source": [
    "**Fitting the model & Why linear models should always be used as baselines**\n",
    "\n",
    "We'll fit our model and time how long it takes to do so, and then compare it against a neural network. We'll measure the performance of our models with both training time and the [Root Mean Square Error (RMSE)](https://en.wikipedia.org/wiki/Root-mean-square_deviation) of the testing set using the hold-out method. This means that we will use 70% of our data to train our models, create predictions on the remaining the 30% of the data, and test our predictions by comparing them against the actual data.\n",
    "\n",
    "On a side note, you should typically use [k-fold cross validation](https://cdn-images-1.medium.com/max/1600/1*me-aJdjnt3ivwAurYkB7PA.png) when you have a small dataset (typically <300,000 observations) in order to have a more realistic evaluation, but we'll skip this for the sake of time and explainability.\n",
    "\n",
    "Before we do, think about what you expect the differences between these two models should be. Which one do you think should perform better?"
   ]
  },
  {
   "cell_type": "code",
   "execution_count": 83,
   "metadata": {
    "ExecuteTime": {
     "end_time": "2019-03-16T01:44:34.838088Z",
     "start_time": "2019-03-16T01:44:34.828089Z"
    }
   },
   "outputs": [
    {
     "name": "stdout",
     "output_type": "stream",
     "text": [
      "Total time to fit the model: 0.0010018348693847656\n",
      "RMSE: 4.599514481691386\n"
     ]
    }
   ],
   "source": [
    "from sklearn.linear_model import LinearRegression\n",
    "\n",
    "# Assigning the features and labels to variables before splitting them\n",
    "# Note: We're discarding the origin (discrete/categorical variable) and model_year (ordinal)\n",
    "#       for simplicity in this example.\n",
    "features = df[['cylinders', 'displacement', 'horsepower', 'weight', 'acceleration']]\n",
    "label = df['mpg']\n",
    "\n",
    "# Splitting the observations into a training and a testing set for the holdout method\n",
    "# Note: k-folds cross validation should be used for a dataset this small in order\n",
    "#       to obtain a more realistic accuracy. This won't be used for simplicity\n",
    "#       in this example.\n",
    "from sklearn.model_selection import train_test_split\n",
    "X_train, X_test, y_train, y_test = train_test_split(features, label,\n",
    "                                                    test_size=0.30, random_state=46)\n",
    "\n",
    "# Instantiating the model\n",
    "linear_regression_model = LinearRegression()\n",
    "\n",
    "# Fitting the model and timing how long it takes\n",
    "start_time = time.time()\n",
    "linear_regression_model.fit(X_train, y_train)\n",
    "end_time = time.time()\n",
    "\n",
    "# Calculating the root mean squared error (RMSE) of our model\n",
    "predictions = linear_regression_model.predict(X_test)  # Creating predictions for the test set\n",
    "mse = sklearn.metrics.mean_squared_error(y_test, predictions)  # Calculating the mean squared error\n",
    "rmse = np.sqrt(mse)  # Getting the square root of the mean squared error\n",
    "\n",
    "# Reporting how long it takes to fit the model\n",
    "print('Total time to fit the model:', end_time - start_time)\n",
    "\n",
    "# Reporting the root mean squared error (RMSE)\n",
    "print('RMSE:', rmse)"
   ]
  },
  {
   "cell_type": "markdown",
   "metadata": {},
   "source": [
    "We were able to fit our model in a centisecond - that's really fast. Our model was off on our test set by an average of 4.6 MPG.\n",
    "\n",
    "In order to prove why it's a good idea to use either linear or logistic regression as a baseline model, we'll copy and paste the code in the chunk above but use a neural network instead. Neural networks are a complex model that loosely models the biological structure of the brain. They can be extremely powerful when used in the right context (image classification, natural language processing, speech to text, etc.) and with extensive hyperparameter tuning, but this should demonstrate why there's no one model that fits all use cases."
   ]
  },
  {
   "cell_type": "code",
   "execution_count": 64,
   "metadata": {
    "ExecuteTime": {
     "end_time": "2019-03-16T01:11:01.008103Z",
     "start_time": "2019-03-16T01:11:00.940103Z"
    }
   },
   "outputs": [
    {
     "name": "stdout",
     "output_type": "stream",
     "text": [
      "Total time to fit the model: 0.06099891662597656\n",
      "RMSE: 10.285381501709422\n"
     ]
    }
   ],
   "source": [
    "from sklearn.neural_network import MLPRegressor\n",
    "\n",
    "# Instantiating the model\n",
    "neural_network_model = MLPRegressor(max_iter=1000,  # Allowing a higher number of max iterations to allow it to converge\n",
    "                                    random_state=46)  # Ensuring the same results every time\n",
    "\n",
    "# Fitting the model and timing how long it takes\n",
    "start_time = time.time()\n",
    "neural_network_model.fit(X_train, y_train)\n",
    "end_time = time.time()\n",
    "\n",
    "# Calculating the root mean squared error (RMSE) of our model\n",
    "predictions = neural_network_model.predict(X_test)  # Creating predictions for the test set\n",
    "mse = sklearn.metrics.mean_squared_error(y_test, predictions)  # Calculating the mean squared error\n",
    "rmse = np.sqrt(mse)  # Getting the square root of the mean squared error\n",
    "\n",
    "# Reporting how long it takes to fit the model\n",
    "print('Total time to fit the model:', end_time - start_time)\n",
    "\n",
    "# Reporting the root mean squared error (RMSE)\n",
    "print('RMSE:', rmse)"
   ]
  },
  {
   "cell_type": "markdown",
   "metadata": {},
   "source": [
    "Not only did our neural network take ~61x as long to train, but it's RMSE was significantly worse. It's possible that we could have obtained a better performing neural network by extensively tuning the network architecture, learning rate, optimizer, regularization parameters, etc., but this would have been a significant time investment.\n",
    "\n",
    "The other reason why linear models are exceptionally powerful is that they are highly interpretable. If we want to understand *why* a neural network is making the prediction that it's making, we don't really know - it's a [black box model](https://en.wikipedia.org/wiki/Black_box). We also don't know which features are important and by how much. These are easy to do with linear models because the trained model is just an extremely simple math equation - \n",
    "\n",
    "$$\\hat{Y} = \\theta_0 + \\theta_1 X_1 + \\theta_2 X_2 + ... \\theta_n X_n$$\n",
    "\n",
    "where\n",
    "\n",
    "$$\\hat{Y}: Prediction$$\n",
    "$$\\theta_0: Intercept$$\n",
    "$$\\theta_{1 \\dots n}: Coefficients$$\n",
    "$$X_{1 \\dots n}: Variables/Features/Predictors$$\n",
    "\n",
    "Let's look at the equation for our model here. In this case, we'll re-fit the model with the statsmodels library in order to better format the results and have additional information for the model available to us - "
   ]
  },
  {
   "cell_type": "code",
   "execution_count": 71,
   "metadata": {
    "ExecuteTime": {
     "end_time": "2019-03-16T01:30:19.262336Z",
     "start_time": "2019-03-16T01:30:19.241336Z"
    }
   },
   "outputs": [
    {
     "name": "stdout",
     "output_type": "stream",
     "text": [
      "                            OLS Regression Results                            \n",
      "==============================================================================\n",
      "Dep. Variable:                    mpg   R-squared:                       0.720\n",
      "Model:                            OLS   Adj. R-squared:                  0.715\n",
      "Method:                 Least Squares   F-statistic:                     137.8\n",
      "Date:                Fri, 15 Mar 2019   Prob (F-statistic):           6.32e-72\n",
      "Time:                        18:30:19   Log-Likelihood:                -771.96\n",
      "No. Observations:                 274   AIC:                             1556.\n",
      "Df Residuals:                     268   BIC:                             1578.\n",
      "Df Model:                           5                                         \n",
      "Covariance Type:            nonrobust                                         \n",
      "================================================================================\n",
      "                   coef    std err          t      P>|t|      [0.025      0.975]\n",
      "--------------------------------------------------------------------------------\n",
      "cylinders       -0.4716      0.472     -0.999      0.319      -1.401       0.457\n",
      "displacement    -0.0042      0.010     -0.401      0.688      -0.025       0.016\n",
      "horsepower      -0.0555      0.019     -2.970      0.003      -0.092      -0.019\n",
      "weight          -0.0043      0.001     -4.680      0.000      -0.006      -0.002\n",
      "acceleration    -0.1263      0.145     -0.871      0.384      -0.412       0.159\n",
      "const           47.3703      3.048     15.540      0.000      41.369      53.372\n",
      "==============================================================================\n",
      "Omnibus:                       36.962   Durbin-Watson:                   1.910\n",
      "Prob(Omnibus):                  0.000   Jarque-Bera (JB):               59.066\n",
      "Skew:                           0.794   Prob(JB):                     1.49e-13\n",
      "Kurtosis:                       4.628   Cond. No.                     3.84e+04\n",
      "==============================================================================\n",
      "\n",
      "Warnings:\n",
      "[1] Standard Errors assume that the covariance matrix of the errors is correctly specified.\n",
      "[2] The condition number is large, 3.84e+04. This might indicate that there are\n",
      "strong multicollinearity or other numerical problems.\n"
     ]
    }
   ],
   "source": [
    "import statsmodels.api as sm\n",
    "\n",
    "# Adding the intercept constant for the statsmodels API\n",
    "X_train_for_statsmodels_api = sm.add_constant(X_train, prepend=False)\n",
    "\n",
    "# Fitting the model and viewing the model summary\n",
    "mod = sm.OLS(y_train, X_train_for_statsmodels_api)\n",
    "res = mod.fit()\n",
    "print(res.summary())"
   ]
  },
  {
   "cell_type": "markdown",
   "metadata": {},
   "source": [
    "There is a lot going on in the output, but we'll only focus on the coefficients. The p-values (P>|t|) generally give us the confidence in our coefficients, but we'll ignore these for the sake of time.\n",
    "\n",
    "The coefficients tell us what to multiply our features by in order to get our output. The way of interpreting them is that for every increase in the feature by 1 (holding all else equal), the label changes by the coefficient. Putting that in terms of our model in order to make it less abstract, if we refer to the horsepower in the output of our model, for every increase of one horsepower and nothing else, a car's MPG will decrease by 0.0555, increasing the weight by one decreases the MPG by 0.0043, and so on. Making this even more concrete, here is the formula our model gives us (ignoring that not all of the coefficients are statistically significant):\n",
    "\n",
    "$$\\hat{MPG} = 47.3703 - (Cylinders * 0.4716) - (Displacement * 0.0042) - (Horsepower * 0.0555) - (Weight * 0.0043) - (Acceleration * 0.1263)$$\n",
    "\n",
    "Just for fun, we can test this with our own cars. Plug in your car's specifications below and see how close it is!"
   ]
  },
  {
   "cell_type": "code",
   "execution_count": 94,
   "metadata": {
    "ExecuteTime": {
     "end_time": "2019-03-16T01:50:40.002871Z",
     "start_time": "2019-03-16T01:50:39.996872Z"
    }
   },
   "outputs": [
    {
     "data": {
      "text/plain": [
       "array([21.0201357])"
      ]
     },
     "execution_count": 94,
     "metadata": {},
     "output_type": "execute_result"
    }
   ],
   "source": [
    "# Plug in your own car's specifications here\n",
    "cylinders = 4\n",
    "displacement = 152  # In inches\n",
    "horsepower = 173\n",
    "weight = 3085\n",
    "acceleration = 7.3  # 0-60 time in seconds\n",
    "\n",
    "\n",
    "# The order must be the same as the data frame you used to train the model\n",
    "own_car = [cylinders, displacement, horsepower, weight, acceleration]\n",
    "\n",
    "# Re-shaping the input for sklearn to predict on\n",
    "own_car = np.array(own_car).reshape(1, -1)\n",
    "\n",
    "# Predicting your car's MPG\n",
    "linear_regression_model.predict(own_car)"
   ]
  },
  {
   "cell_type": "markdown",
   "metadata": {},
   "source": [
    "That's almost exactly what the EPA's combined MPG estimate is for my car - all from a linear regression model on only 392 other cars from the '70s and '80s!\n",
    "\n",
    "So at this point linear regression seems really cool - it trains really fast, had better predictive performance than an un-tuned neural network, and it was able to tell us why it was making its predictions and how much each feature matters. However, you may have noticed that I used a few specific phrases such as \"holding all else equal\" and \"ignoring that not all of the coefficients are statistically significant\".\n",
    "\n",
    "Because linear regression is a more basic model, it requires [more assumptions](https://jeffmacaluso.github.io/post/LinearRegressionAssumptions/) in order to work properly. It isn't as robust as other models, so we have to be careful with our data before making claims about which features matter and how much. Additionally, there are a lot more things in our data that we have to be careful about.\n",
    "\n",
    "Let's examine some new data that we will build linear models for. This will be four datasets, each with only one feature. We'll start by loading the datasets in and viewing summary statistics for the single features."
   ]
  },
  {
   "cell_type": "code",
   "execution_count": 96,
   "metadata": {
    "ExecuteTime": {
     "end_time": "2019-03-16T01:58:58.308387Z",
     "start_time": "2019-03-16T01:58:58.281386Z"
    }
   },
   "outputs": [
    {
     "data": {
      "text/html": [
       "<div>\n",
       "<style scoped>\n",
       "    .dataframe tbody tr th:only-of-type {\n",
       "        vertical-align: middle;\n",
       "    }\n",
       "\n",
       "    .dataframe tbody tr th {\n",
       "        vertical-align: top;\n",
       "    }\n",
       "\n",
       "    .dataframe thead th {\n",
       "        text-align: right;\n",
       "    }\n",
       "</style>\n",
       "<table border=\"1\" class=\"dataframe\">\n",
       "  <thead>\n",
       "    <tr style=\"text-align: right;\">\n",
       "      <th></th>\n",
       "      <th>count</th>\n",
       "      <th>mean</th>\n",
       "      <th>std</th>\n",
       "      <th>min</th>\n",
       "      <th>25%</th>\n",
       "      <th>50%</th>\n",
       "      <th>75%</th>\n",
       "      <th>max</th>\n",
       "    </tr>\n",
       "    <tr>\n",
       "      <th>dataset</th>\n",
       "      <th></th>\n",
       "      <th></th>\n",
       "      <th></th>\n",
       "      <th></th>\n",
       "      <th></th>\n",
       "      <th></th>\n",
       "      <th></th>\n",
       "      <th></th>\n",
       "    </tr>\n",
       "  </thead>\n",
       "  <tbody>\n",
       "    <tr>\n",
       "      <th>I</th>\n",
       "      <td>11.0</td>\n",
       "      <td>9.0</td>\n",
       "      <td>3.316625</td>\n",
       "      <td>4.0</td>\n",
       "      <td>6.5</td>\n",
       "      <td>9.0</td>\n",
       "      <td>11.5</td>\n",
       "      <td>14.0</td>\n",
       "    </tr>\n",
       "    <tr>\n",
       "      <th>II</th>\n",
       "      <td>11.0</td>\n",
       "      <td>9.0</td>\n",
       "      <td>3.316625</td>\n",
       "      <td>4.0</td>\n",
       "      <td>6.5</td>\n",
       "      <td>9.0</td>\n",
       "      <td>11.5</td>\n",
       "      <td>14.0</td>\n",
       "    </tr>\n",
       "    <tr>\n",
       "      <th>III</th>\n",
       "      <td>11.0</td>\n",
       "      <td>9.0</td>\n",
       "      <td>3.316625</td>\n",
       "      <td>4.0</td>\n",
       "      <td>6.5</td>\n",
       "      <td>9.0</td>\n",
       "      <td>11.5</td>\n",
       "      <td>14.0</td>\n",
       "    </tr>\n",
       "    <tr>\n",
       "      <th>IV</th>\n",
       "      <td>11.0</td>\n",
       "      <td>9.0</td>\n",
       "      <td>3.316625</td>\n",
       "      <td>8.0</td>\n",
       "      <td>8.0</td>\n",
       "      <td>8.0</td>\n",
       "      <td>8.0</td>\n",
       "      <td>19.0</td>\n",
       "    </tr>\n",
       "  </tbody>\n",
       "</table>\n",
       "</div>"
      ],
      "text/plain": [
       "         count  mean       std  min  25%  50%   75%   max\n",
       "dataset                                                  \n",
       "I         11.0   9.0  3.316625  4.0  6.5  9.0  11.5  14.0\n",
       "II        11.0   9.0  3.316625  4.0  6.5  9.0  11.5  14.0\n",
       "III       11.0   9.0  3.316625  4.0  6.5  9.0  11.5  14.0\n",
       "IV        11.0   9.0  3.316625  8.0  8.0  8.0   8.0  19.0"
      ]
     },
     "execution_count": 96,
     "metadata": {},
     "output_type": "execute_result"
    }
   ],
   "source": [
    "# Load the example dataset for Anscombe's quartet\n",
    "df = sns.load_dataset('anscombe')\n",
    "\n",
    "# Showing same mean/sd/percentiles for the predictor\n",
    "df.groupby('dataset')['x'].describe()"
   ]
  },
  {
   "cell_type": "markdown",
   "metadata": {},
   "source": [
    "The summary statistics all look almost the exact same. It's possible that datasets I-III are duplicates and IV happens to be a little different.\n",
    "\n",
    "Next, we'll build one model for each of these datasets and examine the RMSE:"
   ]
  },
  {
   "cell_type": "code",
   "execution_count": 114,
   "metadata": {
    "ExecuteTime": {
     "end_time": "2019-03-16T02:05:16.512221Z",
     "start_time": "2019-03-16T02:05:16.495221Z"
    }
   },
   "outputs": [
    {
     "name": "stdout",
     "output_type": "stream",
     "text": [
      "Dataset I RMSE: 1.1185497916336298\n",
      "Dataset II RMSE: 1.1191023557497446\n",
      "Dataset III RMSE: 1.118285693623049\n",
      "Dataset IV RMSE: 1.1177286221293936\n"
     ]
    }
   ],
   "source": [
    "# Looping through each dataset, building a model, and checking the RMSE\n",
    "for dataset in df['dataset'].unique():\n",
    "    subset = df[df['dataset'] == dataset]\n",
    "    model = LinearRegression()\n",
    "    model.fit(subset[['x']], subset['y'])\n",
    "    predictions = model.predict(subset[['x']])\n",
    "    \n",
    "    mse = sklearn.metrics.mean_squared_error(subset['y'], predictions)\n",
    "    rmse = np.sqrt(mse)\n",
    "    print('Dataset {0} RMSE: {1}'.format(dataset, rmse))"
   ]
  },
  {
   "cell_type": "markdown",
   "metadata": {},
   "source": [
    "Interestingly, our RMSE is almost the exact same for each of our datasets.\n",
    "\n",
    "Are these just copies? Let's plot our datasets to see:"
   ]
  },
  {
   "cell_type": "code",
   "execution_count": 74,
   "metadata": {
    "ExecuteTime": {
     "end_time": "2019-03-16T01:31:13.388493Z",
     "start_time": "2019-03-16T01:31:12.829397Z"
    }
   },
   "outputs": [
    {
     "data": {
      "text/plain": [
       "<seaborn.axisgrid.FacetGrid at 0x1174fea9fd0>"
      ]
     },
     "execution_count": 74,
     "metadata": {},
     "output_type": "execute_result"
    },
    {
     "data": {
      "image/png": "[encoded data removed]",
      "text/plain": [
       "<Figure size 576x576 with 4 Axes>"
      ]
     },
     "metadata": {},
     "output_type": "display_data"
    }
   ],
   "source": [
    "# Showing the results of a linear regression within each dataset\n",
    "sns.lmplot(x='x', y='y', col='dataset', hue='dataset', data=df,\n",
    "           col_wrap=2, ci=None, palette='muted', height=4,\n",
    "           scatter_kws={'s': 50, 'alpha': 1})"
   ]
  },
  {
   "cell_type": "markdown",
   "metadata": {
    "ExecuteTime": {
     "end_time": "2019-03-16T01:59:00.714126Z",
     "start_time": "2019-03-16T01:59:00.702126Z"
    }
   },
   "source": [
    "We can see that the linear regression models we trained are all the exact same, but the data that we used to train them are different. There are clearly a few issues here, so let's break these datasets down:\n",
    "\n",
    "**I:** This was the only legitimate dataset for linear regression in this bunch. Some points deviate from the line, but they do so evenly throughout. This is typical expected behavior of proper linear regression applications.\n",
    "\n",
    "**II:** This data is not linear, which violates the assumption that there is a linear relationship between the features and the labels. This is where we should introduce polynomial variables to be able to capture this non-linear trend.\n",
    "\n",
    "**III:** This data has a clear outlier that is throwing off our model. If this point was removed, we should be able to capture the linear model perfectly.\n",
    "\n",
    "**IV:** This data has both the issues of dataset II and dataset III. Linear regression is not an appropriate model for this because we would only capture the average after throwing out the outlier.\n",
    "\n",
    "### Summary\n",
    "\n",
    "TODO: Finish this"
   ]
  },
  {
   "cell_type": "markdown",
   "metadata": {},
   "source": [
    "## Decision Trees: Classification and Regression Trees (CART)\n",
    "\n",
    "<img src=\"https://raw.githubusercontent.com/JeffMacaluso/Talks/master/TheMostImportantModels/images/DecisionTreeIllustration.png\">\n",
    "\n",
    "TODO: Talk about -\n",
    "- What they are\n",
    "- How they work\n",
    "    - Show [this blog post](http://www.r2d3.us/visual-intro-to-machine-learning-part-1/)\n",
    "- How quick they are to run\n",
    "- Interpretability\n",
    "    - Only to a certain point\n",
    "- Con: Prone to overfitting\n",
    "\n",
    "<img src=\"https://clearpredictions.com/Images/tree-infographic.png\" width=\"1200\">"
   ]
  },
  {
   "cell_type": "code",
   "execution_count": null,
   "metadata": {},
   "outputs": [],
   "source": []
  },
  {
   "cell_type": "markdown",
   "metadata": {},
   "source": [
    "## Random Forests\n",
    "\n",
    "<img src=\"https://raw.githubusercontent.com/JeffMacaluso/Talks/master/TheMostImportantModels/images/RandomForestDiagram.png\">\n",
    "\n",
    "TODO: Talk about -\n",
    "- What they are\n",
    "- How they work\n",
    "- How quick they are to run\n",
    "- Interpretability\n",
    "    - Only to a certain point\n",
    "- Con: Prone to overfitting"
   ]
  },
  {
   "cell_type": "code",
   "execution_count": null,
   "metadata": {},
   "outputs": [],
   "source": []
  }
 ],
 "metadata": {
  "kernelspec": {
   "display_name": "Python 3",
   "language": "python",
   "name": "python3"
  },
  "language_info": {
   "codemirror_mode": {
    "name": "ipython",
    "version": 3
   },
   "file_extension": ".py",
   "mimetype": "text/x-python",
   "name": "python",
   "nbconvert_exporter": "python",
   "pygments_lexer": "ipython3",
   "version": "3.6.6"
  },
  "varInspector": {
   "cols": {
    "lenName": 16,
    "lenType": 16,
    "lenVar": 40
   },
   "kernels_config": {
    "python": {
     "delete_cmd_postfix": "",
     "delete_cmd_prefix": "del ",
     "library": "var_list.py",
     "varRefreshCmd": "print(var_dic_list())"
    },
    "r": {
     "delete_cmd_postfix": ") ",
     "delete_cmd_prefix": "rm(",
     "library": "var_list.r",
     "varRefreshCmd": "cat(var_dic_list()) "
    }
   },
   "types_to_exclude": [
    "module",
    "function",
    "builtin_function_or_method",
    "instance",
    "_Feature"
   ],
   "window_display": false
  }
 },
 "nbformat": 4,
 "nbformat_minor": 2
}
