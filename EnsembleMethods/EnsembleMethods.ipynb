{
 "cells": [
  {
   "cell_type": "markdown",
   "metadata": {},
   "source": [
    "# Ensemble Methods\n",
    "\n",
    "## Overview\n",
    "\n",
    "## Table of Contents\n",
    "\n",
    "## Setup"
   ]
  },
  {
   "cell_type": "code",
   "execution_count": 1,
   "metadata": {
    "ExecuteTime": {
     "end_time": "2018-06-30T23:42:12.801244Z",
     "start_time": "2018-06-30T23:42:10.832613Z"
    }
   },
   "outputs": [
    {
     "name": "stdout",
     "output_type": "stream",
     "text": [
      "2018/06/30 18:42\n",
      "OS: win32\n",
      "Python: 3.5.5 | packaged by conda-forge | (default, Apr  6 2018, 16:03:44) [MSC v.1900 64 bit (AMD64)]\n",
      "NumPy: 1.12.1\n",
      "Pandas: 0.23.1\n"
     ]
    }
   ],
   "source": [
    "# Note: Trim out any of these that aren't used\n",
    "\n",
    "import sys\n",
    "import time\n",
    "import scipy\n",
    "import numpy as np\n",
    "import pandas as pd\n",
    "import matplotlib.pyplot as plt\n",
    "import seaborn as sns\n",
    "\n",
    "from sklearn import datasets\n",
    "from sklearn.model_selection import train_test_split\n",
    "from sklearn.model_selection import RandomizedSearchCV\n",
    "from sklearn import ensemble\n",
    "from sklearn import linear_model\n",
    "from sklearn import metrics\n",
    "\n",
    "print(time.strftime('%Y/%m/%d %H:%M'))\n",
    "print('OS:', sys.platform)\n",
    "print('Python:', sys.version)\n",
    "print('NumPy:', np.__version__)\n",
    "print('Pandas:', pd.__version__)\n",
    "\n",
    "# Formatting for seaborn plots\n",
    "sns.set_context('notebook', font_scale=1.1)\n",
    "sns.set_style('ticks')\n",
    "\n",
    "# Displays all dataframe columns\n",
    "pd.set_option('display.max_columns', None)\n",
    "\n",
    "%matplotlib inline"
   ]
  },
  {
   "cell_type": "markdown",
   "metadata": {},
   "source": [
    "Creating an artificial data set"
   ]
  },
  {
   "cell_type": "code",
   "execution_count": 2,
   "metadata": {
    "ExecuteTime": {
     "end_time": "2018-06-30T23:42:13.035604Z",
     "start_time": "2018-06-30T23:42:12.801244Z"
    }
   },
   "outputs": [
    {
     "data": {
      "text/html": [
       "<div>\n",
       "<style scoped>\n",
       "    .dataframe tbody tr th:only-of-type {\n",
       "        vertical-align: middle;\n",
       "    }\n",
       "\n",
       "    .dataframe tbody tr th {\n",
       "        vertical-align: top;\n",
       "    }\n",
       "\n",
       "    .dataframe thead th {\n",
       "        text-align: right;\n",
       "    }\n",
       "</style>\n",
       "<table border=\"1\" class=\"dataframe\">\n",
       "  <thead>\n",
       "    <tr style=\"text-align: right;\">\n",
       "      <th></th>\n",
       "      <th>0</th>\n",
       "      <th>1</th>\n",
       "      <th>2</th>\n",
       "      <th>3</th>\n",
       "      <th>4</th>\n",
       "      <th>5</th>\n",
       "      <th>6</th>\n",
       "      <th>7</th>\n",
       "      <th>8</th>\n",
       "      <th>9</th>\n",
       "      <th>10</th>\n",
       "      <th>11</th>\n",
       "      <th>12</th>\n",
       "      <th>13</th>\n",
       "      <th>14</th>\n",
       "      <th>15</th>\n",
       "      <th>16</th>\n",
       "      <th>17</th>\n",
       "      <th>18</th>\n",
       "      <th>19</th>\n",
       "      <th>label</th>\n",
       "    </tr>\n",
       "  </thead>\n",
       "  <tbody>\n",
       "    <tr>\n",
       "      <th>0</th>\n",
       "      <td>1.381152</td>\n",
       "      <td>0.098255</td>\n",
       "      <td>-1.595135</td>\n",
       "      <td>2.466205</td>\n",
       "      <td>1.199824</td>\n",
       "      <td>0.750711</td>\n",
       "      <td>0.016445</td>\n",
       "      <td>-1.022881</td>\n",
       "      <td>0.026676</td>\n",
       "      <td>-0.148218</td>\n",
       "      <td>0.670512</td>\n",
       "      <td>-1.162129</td>\n",
       "      <td>0.303519</td>\n",
       "      <td>0.764575</td>\n",
       "      <td>0.956223</td>\n",
       "      <td>-0.433387</td>\n",
       "      <td>-1.096477</td>\n",
       "      <td>1.491693</td>\n",
       "      <td>0.702132</td>\n",
       "      <td>-1.250404</td>\n",
       "      <td>0</td>\n",
       "    </tr>\n",
       "    <tr>\n",
       "      <th>1</th>\n",
       "      <td>-0.881437</td>\n",
       "      <td>0.932283</td>\n",
       "      <td>1.082720</td>\n",
       "      <td>0.336264</td>\n",
       "      <td>0.519846</td>\n",
       "      <td>-0.178198</td>\n",
       "      <td>-0.438511</td>\n",
       "      <td>-1.780458</td>\n",
       "      <td>-1.094684</td>\n",
       "      <td>0.704253</td>\n",
       "      <td>0.241305</td>\n",
       "      <td>0.412352</td>\n",
       "      <td>-0.185020</td>\n",
       "      <td>0.877690</td>\n",
       "      <td>0.887329</td>\n",
       "      <td>0.052146</td>\n",
       "      <td>-0.369928</td>\n",
       "      <td>0.420495</td>\n",
       "      <td>1.185006</td>\n",
       "      <td>-0.982993</td>\n",
       "      <td>0</td>\n",
       "    </tr>\n",
       "    <tr>\n",
       "      <th>2</th>\n",
       "      <td>0.190941</td>\n",
       "      <td>-1.388274</td>\n",
       "      <td>0.926709</td>\n",
       "      <td>-0.537074</td>\n",
       "      <td>-0.696138</td>\n",
       "      <td>-1.138702</td>\n",
       "      <td>-0.428135</td>\n",
       "      <td>2.043728</td>\n",
       "      <td>-1.091350</td>\n",
       "      <td>-0.178637</td>\n",
       "      <td>0.071443</td>\n",
       "      <td>0.767000</td>\n",
       "      <td>0.284925</td>\n",
       "      <td>1.302698</td>\n",
       "      <td>2.419633</td>\n",
       "      <td>0.634297</td>\n",
       "      <td>0.924794</td>\n",
       "      <td>1.733205</td>\n",
       "      <td>-0.317379</td>\n",
       "      <td>-0.836725</td>\n",
       "      <td>0</td>\n",
       "    </tr>\n",
       "    <tr>\n",
       "      <th>3</th>\n",
       "      <td>0.023706</td>\n",
       "      <td>0.054939</td>\n",
       "      <td>-1.256974</td>\n",
       "      <td>0.300998</td>\n",
       "      <td>0.631781</td>\n",
       "      <td>-1.202187</td>\n",
       "      <td>0.294900</td>\n",
       "      <td>-0.247984</td>\n",
       "      <td>0.738990</td>\n",
       "      <td>1.568707</td>\n",
       "      <td>0.143149</td>\n",
       "      <td>0.598339</td>\n",
       "      <td>0.066437</td>\n",
       "      <td>1.590112</td>\n",
       "      <td>-0.790207</td>\n",
       "      <td>-1.807635</td>\n",
       "      <td>0.065088</td>\n",
       "      <td>1.217465</td>\n",
       "      <td>1.054143</td>\n",
       "      <td>-0.129678</td>\n",
       "      <td>1</td>\n",
       "    </tr>\n",
       "    <tr>\n",
       "      <th>4</th>\n",
       "      <td>2.373467</td>\n",
       "      <td>-1.303648</td>\n",
       "      <td>-0.321453</td>\n",
       "      <td>1.455964</td>\n",
       "      <td>0.856350</td>\n",
       "      <td>-0.231027</td>\n",
       "      <td>0.408669</td>\n",
       "      <td>0.762471</td>\n",
       "      <td>0.988172</td>\n",
       "      <td>-0.572210</td>\n",
       "      <td>-1.023386</td>\n",
       "      <td>-0.909379</td>\n",
       "      <td>0.832970</td>\n",
       "      <td>0.612453</td>\n",
       "      <td>1.376857</td>\n",
       "      <td>0.502411</td>\n",
       "      <td>-2.524306</td>\n",
       "      <td>0.605981</td>\n",
       "      <td>0.764269</td>\n",
       "      <td>-1.158032</td>\n",
       "      <td>1</td>\n",
       "    </tr>\n",
       "  </tbody>\n",
       "</table>\n",
       "</div>"
      ],
      "text/plain": [
       "          0         1         2         3         4         5         6  \\\n",
       "0  1.381152  0.098255 -1.595135  2.466205  1.199824  0.750711  0.016445   \n",
       "1 -0.881437  0.932283  1.082720  0.336264  0.519846 -0.178198 -0.438511   \n",
       "2  0.190941 -1.388274  0.926709 -0.537074 -0.696138 -1.138702 -0.428135   \n",
       "3  0.023706  0.054939 -1.256974  0.300998  0.631781 -1.202187  0.294900   \n",
       "4  2.373467 -1.303648 -0.321453  1.455964  0.856350 -0.231027  0.408669   \n",
       "\n",
       "          7         8         9        10        11        12        13  \\\n",
       "0 -1.022881  0.026676 -0.148218  0.670512 -1.162129  0.303519  0.764575   \n",
       "1 -1.780458 -1.094684  0.704253  0.241305  0.412352 -0.185020  0.877690   \n",
       "2  2.043728 -1.091350 -0.178637  0.071443  0.767000  0.284925  1.302698   \n",
       "3 -0.247984  0.738990  1.568707  0.143149  0.598339  0.066437  1.590112   \n",
       "4  0.762471  0.988172 -0.572210 -1.023386 -0.909379  0.832970  0.612453   \n",
       "\n",
       "         14        15        16        17        18        19  label  \n",
       "0  0.956223 -0.433387 -1.096477  1.491693  0.702132 -1.250404      0  \n",
       "1  0.887329  0.052146 -0.369928  0.420495  1.185006 -0.982993      0  \n",
       "2  2.419633  0.634297  0.924794  1.733205 -0.317379 -0.836725      0  \n",
       "3 -0.790207 -1.807635  0.065088  1.217465  1.054143 -0.129678      1  \n",
       "4  1.376857  0.502411 -2.524306  0.605981  0.764269 -1.158032      1  "
      ]
     },
     "execution_count": 2,
     "metadata": {},
     "output_type": "execute_result"
    }
   ],
   "source": [
    "data = datasets.make_classification(n_samples=30000, n_features=20, n_classes=2, random_state=46)\n",
    "X = data[0]\n",
    "y = data[1]\n",
    "\n",
    "df = pd.DataFrame(X)\n",
    "df['label'] = y\n",
    "\n",
    "df.head()"
   ]
  },
  {
   "cell_type": "code",
   "execution_count": 3,
   "metadata": {
    "ExecuteTime": {
     "end_time": "2018-06-30T23:42:13.066852Z",
     "start_time": "2018-06-30T23:42:13.035604Z"
    }
   },
   "outputs": [],
   "source": [
    "# Train/test split\n",
    "X_train, X_test, y_train, y_test = train_test_split(X, y, test_size=0.30, random_state=46)"
   ]
  },
  {
   "cell_type": "code",
   "execution_count": 4,
   "metadata": {
    "ExecuteTime": {
     "end_time": "2018-06-30T23:42:13.098103Z",
     "start_time": "2018-06-30T23:42:13.066852Z"
    }
   },
   "outputs": [],
   "source": [
    "# Function for plotting learning curves"
   ]
  },
  {
   "cell_type": "code",
   "execution_count": 5,
   "metadata": {
    "ExecuteTime": {
     "end_time": "2018-06-30T23:42:13.144974Z",
     "start_time": "2018-06-30T23:42:13.098103Z"
    }
   },
   "outputs": [],
   "source": [
    "# Data frame for gathering results \n",
    "results = pd.DataFrame(columns=['Accuracy', 'LogLoss', 'ExecutionTime', 'IsTuned'])\n",
    "\n",
    "# Function for training a model and retrieving the results\n",
    "def train_model_get_results(model, model_name, is_tuned=0):\n",
    "    '''\n",
    "    Trains a model and appends the results to the results dataframe\n",
    "    \n",
    "    Input:\n",
    "        - model: The model with specified hyperparameters to be trained\n",
    "        - model_name: The name of the model to be used as the index\n",
    "        - is_tuned: A binary flag for if hyperparameter tuning has been performed\n",
    "    \n",
    "    Output: The results dataframe with the model results added\n",
    "    \n",
    "    Note: Only works with scikit-learn models\n",
    "    '''\n",
    "    \n",
    "    # Collecting training time for results\n",
    "    start_time = time.time()\n",
    "    \n",
    "    print('Training the model')\n",
    "    model.fit(X_train, y_train)\n",
    "    \n",
    "    end_time = time.time()\n",
    "    total_time = end_time - start_time\n",
    "    print('Completed')\n",
    "    \n",
    "    # Calculating the testing set accuracy with the score method\n",
    "    accuracy = model.score(X_test, y_test)\n",
    "    \n",
    "    # Calcuating the log loss with predicted probabilities\n",
    "    class_probabilities = model.predict_proba(X_test)\n",
    "    log_loss = metrics.log_loss(y_test, class_probabilities)\n",
    "    \n",
    "    # Adding the model results to the results dataframe\n",
    "    model_results = [accuracy, log_loss, total_time, is_tuned]\n",
    "    results.loc[model_name] = model_results\n",
    "    \n",
    "    return results"
   ]
  },
  {
   "cell_type": "markdown",
   "metadata": {},
   "source": [
    "## Baseline\n",
    "\n",
    "It's always useful to have a baseline to compare against. I like to use linear/logistic regression due to them being extremely fast to train.\n",
    "\n",
    "Say something about wanting to be better than random chance or something"
   ]
  },
  {
   "cell_type": "code",
   "execution_count": 6,
   "metadata": {
    "ExecuteTime": {
     "end_time": "2018-06-30T23:42:13.285590Z",
     "start_time": "2018-06-30T23:42:13.144974Z"
    }
   },
   "outputs": [
    {
     "name": "stdout",
     "output_type": "stream",
     "text": [
      "Training the model\n",
      "Completed\n"
     ]
    },
    {
     "data": {
      "text/html": [
       "<div>\n",
       "<style scoped>\n",
       "    .dataframe tbody tr th:only-of-type {\n",
       "        vertical-align: middle;\n",
       "    }\n",
       "\n",
       "    .dataframe tbody tr th {\n",
       "        vertical-align: top;\n",
       "    }\n",
       "\n",
       "    .dataframe thead th {\n",
       "        text-align: right;\n",
       "    }\n",
       "</style>\n",
       "<table border=\"1\" class=\"dataframe\">\n",
       "  <thead>\n",
       "    <tr style=\"text-align: right;\">\n",
       "      <th></th>\n",
       "      <th>Accuracy</th>\n",
       "      <th>LogLoss</th>\n",
       "      <th>ExecutionTime</th>\n",
       "      <th>IsTuned</th>\n",
       "    </tr>\n",
       "  </thead>\n",
       "  <tbody>\n",
       "    <tr>\n",
       "      <th>Logistic Regression</th>\n",
       "      <td>0.880556</td>\n",
       "      <td>0.2974</td>\n",
       "      <td>0.093744</td>\n",
       "      <td>0.0</td>\n",
       "    </tr>\n",
       "  </tbody>\n",
       "</table>\n",
       "</div>"
      ],
      "text/plain": [
       "                     Accuracy  LogLoss  ExecutionTime  IsTuned\n",
       "Logistic Regression  0.880556   0.2974       0.093744      0.0"
      ]
     },
     "execution_count": 6,
     "metadata": {},
     "output_type": "execute_result"
    }
   ],
   "source": [
    "# Instantiating the model\n",
    "logistic_regression = linear_model.LogisticRegression()\n",
    "\n",
    "# Using our user defined function to train the model and return the results\n",
    "train_model_get_results(model=logistic_regression, model_name='Logistic Regression')"
   ]
  },
  {
   "cell_type": "markdown",
   "metadata": {
    "ExecuteTime": {
     "end_time": "2018-06-30T21:52:49.624668Z",
     "start_time": "2018-06-30T21:52:49.593513Z"
    }
   },
   "source": [
    "## Bagging"
   ]
  },
  {
   "cell_type": "code",
   "execution_count": 7,
   "metadata": {
    "ExecuteTime": {
     "end_time": "2018-06-30T23:42:14.316776Z",
     "start_time": "2018-06-30T23:42:13.285590Z"
    }
   },
   "outputs": [
    {
     "name": "stdout",
     "output_type": "stream",
     "text": [
      "Training the model\n",
      "Completed\n"
     ]
    },
    {
     "data": {
      "text/html": [
       "<div>\n",
       "<style scoped>\n",
       "    .dataframe tbody tr th:only-of-type {\n",
       "        vertical-align: middle;\n",
       "    }\n",
       "\n",
       "    .dataframe tbody tr th {\n",
       "        vertical-align: top;\n",
       "    }\n",
       "\n",
       "    .dataframe thead th {\n",
       "        text-align: right;\n",
       "    }\n",
       "</style>\n",
       "<table border=\"1\" class=\"dataframe\">\n",
       "  <thead>\n",
       "    <tr style=\"text-align: right;\">\n",
       "      <th></th>\n",
       "      <th>Accuracy</th>\n",
       "      <th>LogLoss</th>\n",
       "      <th>ExecutionTime</th>\n",
       "      <th>IsTuned</th>\n",
       "    </tr>\n",
       "  </thead>\n",
       "  <tbody>\n",
       "    <tr>\n",
       "      <th>Logistic Regression</th>\n",
       "      <td>0.880556</td>\n",
       "      <td>0.297400</td>\n",
       "      <td>0.093744</td>\n",
       "      <td>0.0</td>\n",
       "    </tr>\n",
       "    <tr>\n",
       "      <th>Random Forest</th>\n",
       "      <td>0.924111</td>\n",
       "      <td>0.479334</td>\n",
       "      <td>0.765581</td>\n",
       "      <td>0.0</td>\n",
       "    </tr>\n",
       "  </tbody>\n",
       "</table>\n",
       "</div>"
      ],
      "text/plain": [
       "                     Accuracy   LogLoss  ExecutionTime  IsTuned\n",
       "Logistic Regression  0.880556  0.297400       0.093744      0.0\n",
       "Random Forest        0.924111  0.479334       0.765581      0.0"
      ]
     },
     "execution_count": 7,
     "metadata": {},
     "output_type": "execute_result"
    }
   ],
   "source": [
    "random_forest = ensemble.RandomForestClassifier(n_jobs=-1)  # n_jobs=-1 uses all available cores\n",
    "\n",
    "train_model_get_results(random_forest, model_name='Random Forest')"
   ]
  },
  {
   "cell_type": "code",
   "execution_count": 8,
   "metadata": {
    "ExecuteTime": {
     "end_time": "2018-06-30T23:42:14.332403Z",
     "start_time": "2018-06-30T23:42:14.316776Z"
    }
   },
   "outputs": [],
   "source": [
    "# ensemble.BaggingRegressor?\n",
    "# ensemble.ExtraTreesRegressor?\n",
    "# ensemble.IsolationForest?\n",
    "# ensemble.VotingClassifier?"
   ]
  },
  {
   "cell_type": "markdown",
   "metadata": {},
   "source": [
    "## Boosting"
   ]
  },
  {
   "cell_type": "code",
   "execution_count": 9,
   "metadata": {
    "ExecuteTime": {
     "end_time": "2018-06-30T23:42:19.347723Z",
     "start_time": "2018-06-30T23:42:14.332403Z"
    }
   },
   "outputs": [
    {
     "name": "stdout",
     "output_type": "stream",
     "text": [
      "Training the model\n",
      "Completed\n"
     ]
    },
    {
     "data": {
      "text/html": [
       "<div>\n",
       "<style scoped>\n",
       "    .dataframe tbody tr th:only-of-type {\n",
       "        vertical-align: middle;\n",
       "    }\n",
       "\n",
       "    .dataframe tbody tr th {\n",
       "        vertical-align: top;\n",
       "    }\n",
       "\n",
       "    .dataframe thead th {\n",
       "        text-align: right;\n",
       "    }\n",
       "</style>\n",
       "<table border=\"1\" class=\"dataframe\">\n",
       "  <thead>\n",
       "    <tr style=\"text-align: right;\">\n",
       "      <th></th>\n",
       "      <th>Accuracy</th>\n",
       "      <th>LogLoss</th>\n",
       "      <th>ExecutionTime</th>\n",
       "      <th>IsTuned</th>\n",
       "    </tr>\n",
       "  </thead>\n",
       "  <tbody>\n",
       "    <tr>\n",
       "      <th>Logistic Regression</th>\n",
       "      <td>0.880556</td>\n",
       "      <td>0.297400</td>\n",
       "      <td>0.093744</td>\n",
       "      <td>0.0</td>\n",
       "    </tr>\n",
       "    <tr>\n",
       "      <th>Random Forest</th>\n",
       "      <td>0.924111</td>\n",
       "      <td>0.479334</td>\n",
       "      <td>0.765581</td>\n",
       "      <td>0.0</td>\n",
       "    </tr>\n",
       "    <tr>\n",
       "      <th>AdaBoost</th>\n",
       "      <td>0.888000</td>\n",
       "      <td>0.658270</td>\n",
       "      <td>4.796587</td>\n",
       "      <td>0.0</td>\n",
       "    </tr>\n",
       "  </tbody>\n",
       "</table>\n",
       "</div>"
      ],
      "text/plain": [
       "                     Accuracy   LogLoss  ExecutionTime  IsTuned\n",
       "Logistic Regression  0.880556  0.297400       0.093744      0.0\n",
       "Random Forest        0.924111  0.479334       0.765581      0.0\n",
       "AdaBoost             0.888000  0.658270       4.796587      0.0"
      ]
     },
     "execution_count": 9,
     "metadata": {},
     "output_type": "execute_result"
    }
   ],
   "source": [
    "adaptive_boosting = ensemble.AdaBoostClassifier()\n",
    "\n",
    "train_model_get_results(adaptive_boosting, model_name='AdaBoost')"
   ]
  },
  {
   "cell_type": "code",
   "execution_count": 10,
   "metadata": {
    "ExecuteTime": {
     "end_time": "2018-06-30T23:42:26.378590Z",
     "start_time": "2018-06-30T23:42:19.347723Z"
    }
   },
   "outputs": [
    {
     "name": "stdout",
     "output_type": "stream",
     "text": [
      "Training the model\n",
      "Completed\n"
     ]
    },
    {
     "data": {
      "text/html": [
       "<div>\n",
       "<style scoped>\n",
       "    .dataframe tbody tr th:only-of-type {\n",
       "        vertical-align: middle;\n",
       "    }\n",
       "\n",
       "    .dataframe tbody tr th {\n",
       "        vertical-align: top;\n",
       "    }\n",
       "\n",
       "    .dataframe thead th {\n",
       "        text-align: right;\n",
       "    }\n",
       "</style>\n",
       "<table border=\"1\" class=\"dataframe\">\n",
       "  <thead>\n",
       "    <tr style=\"text-align: right;\">\n",
       "      <th></th>\n",
       "      <th>Accuracy</th>\n",
       "      <th>LogLoss</th>\n",
       "      <th>ExecutionTime</th>\n",
       "      <th>IsTuned</th>\n",
       "    </tr>\n",
       "  </thead>\n",
       "  <tbody>\n",
       "    <tr>\n",
       "      <th>Logistic Regression</th>\n",
       "      <td>0.880556</td>\n",
       "      <td>0.297400</td>\n",
       "      <td>0.093744</td>\n",
       "      <td>0.0</td>\n",
       "    </tr>\n",
       "    <tr>\n",
       "      <th>Random Forest</th>\n",
       "      <td>0.924111</td>\n",
       "      <td>0.479334</td>\n",
       "      <td>0.765581</td>\n",
       "      <td>0.0</td>\n",
       "    </tr>\n",
       "    <tr>\n",
       "      <th>AdaBoost</th>\n",
       "      <td>0.888000</td>\n",
       "      <td>0.658270</td>\n",
       "      <td>4.796587</td>\n",
       "      <td>0.0</td>\n",
       "    </tr>\n",
       "    <tr>\n",
       "      <th>Gradient Boosted Trees</th>\n",
       "      <td>0.912889</td>\n",
       "      <td>0.204186</td>\n",
       "      <td>6.952721</td>\n",
       "      <td>0.0</td>\n",
       "    </tr>\n",
       "  </tbody>\n",
       "</table>\n",
       "</div>"
      ],
      "text/plain": [
       "                        Accuracy   LogLoss  ExecutionTime  IsTuned\n",
       "Logistic Regression     0.880556  0.297400       0.093744      0.0\n",
       "Random Forest           0.924111  0.479334       0.765581      0.0\n",
       "AdaBoost                0.888000  0.658270       4.796587      0.0\n",
       "Gradient Boosted Trees  0.912889  0.204186       6.952721      0.0"
      ]
     },
     "execution_count": 10,
     "metadata": {},
     "output_type": "execute_result"
    }
   ],
   "source": [
    "gradient_boosting = ensemble.GradientBoostingClassifier()\n",
    "\n",
    "train_model_get_results(gradient_boosting, model_name='Gradient Boosted Trees')"
   ]
  },
  {
   "cell_type": "code",
   "execution_count": null,
   "metadata": {},
   "outputs": [],
   "source": []
  },
  {
   "cell_type": "markdown",
   "metadata": {},
   "source": [
    "## Stacking"
   ]
  },
  {
   "cell_type": "code",
   "execution_count": null,
   "metadata": {},
   "outputs": [],
   "source": []
  },
  {
   "cell_type": "markdown",
   "metadata": {},
   "source": [
    "# Hyperparameter Tuning\n",
    "\n",
    "Talk about grid search vs. random search\n",
    "\n",
    "Talk about decision tree structure & hyperparameters"
   ]
  },
  {
   "cell_type": "markdown",
   "metadata": {},
   "source": [
    "https://github.com/Microsoft/LightGBM/blob/master/docs/Parameters-Tuning.rst\n",
    "\n",
    "For Faster Speed\n",
    "\n",
    "    Use bagging by setting bagging_fraction and bagging_freq\n",
    "    Use feature sub-sampling by setting feature_fraction\n",
    "    Use small max_bin\n",
    "    Use save_binary to speed up data loading in future learning\n",
    "    Use parallel learning, refer to Parallel Learning Guide\n",
    "\n",
    "For Better Accuracy\n",
    "\n",
    "    Use large max_bin (may be slower)\n",
    "    Use small learning_rate with large num_iterations\n",
    "    Use large num_leaves (may cause over-fitting)\n",
    "    Use bigger training data\n",
    "    Try dart\n",
    "\n",
    "Deal with Over-fitting\n",
    "\n",
    "    Use small max_bin\n",
    "    Use small num_leaves\n",
    "    Use min_data_in_leaf and min_sum_hessian_in_leaf\n",
    "    Use bagging by set bagging_fraction and bagging_freq\n",
    "    Use feature sub-sampling by set feature_fraction\n",
    "    Use bigger training data\n",
    "    Try lambda_l1, lambda_l2 and min_gain_to_split for regularization\n",
    "    Try max_depth to avoid growing deep tree\n"
   ]
  },
  {
   "cell_type": "markdown",
   "metadata": {
    "ExecuteTime": {
     "end_time": "2018-06-30T23:13:57.881984Z",
     "start_time": "2018-06-30T23:13:57.866361Z"
    }
   },
   "source": [
    "## Baseline"
   ]
  },
  {
   "cell_type": "code",
   "execution_count": 13,
   "metadata": {
    "ExecuteTime": {
     "end_time": "2018-06-30T23:42:44.955556Z",
     "start_time": "2018-06-30T23:42:34.190575Z"
    }
   },
   "outputs": [
    {
     "name": "stdout",
     "output_type": "stream",
     "text": [
      "0.883\n",
      "0.621595175805\n",
      "LogisticRegression(C=0.62159517580541013, class_weight=None, dual=False,\n",
      "          fit_intercept=True, intercept_scaling=1, max_iter=100,\n",
      "          multi_class='ovr', n_jobs=1, penalty='l2', random_state=None,\n",
      "          solver='liblinear', tol=0.0001, verbose=0, warm_start=False)\n"
     ]
    }
   ],
   "source": [
    "# TODO: Change this into a function\n",
    "\n",
    "parameters = {'C': scipy.stats.uniform()}  # Between 0 and 1\n",
    "\n",
    "random_search = RandomizedSearchCV(logistic_regression,\n",
    "                                   param_distributions=parameters,\n",
    "                                   n_iter=50, n_jobs=-1,\n",
    "                                   return_train_score=True)\n",
    "random_search.fit(X, y)\n",
    "\n",
    "# summarize the results of the random parameter search\n",
    "print(random_search.best_score_)\n",
    "print(random_search.best_estimator_.C)\n",
    "\n",
    "print(random_search.best_estimator_)\n",
    "\n",
    "model_results = []"
   ]
  },
  {
   "cell_type": "code",
   "execution_count": 12,
   "metadata": {
    "ExecuteTime": {
     "end_time": "2018-06-30T23:42:33.378122Z",
     "start_time": "2018-06-30T23:42:33.362499Z"
    }
   },
   "outputs": [],
   "source": [
    "# def random_search_get_results(model, parameters, )"
   ]
  },
  {
   "cell_type": "code",
   "execution_count": 14,
   "metadata": {
    "ExecuteTime": {
     "end_time": "2018-06-30T23:42:53.619942Z",
     "start_time": "2018-06-30T23:42:53.276194Z"
    }
   },
   "outputs": [
    {
     "data": {
      "text/plain": [
       "<matplotlib.axes._subplots.AxesSubplot at 0x24782868b38>"
      ]
     },
     "execution_count": 14,
     "metadata": {},
     "output_type": "execute_result"
    },
    {
     "data": {
      "image/png": "[encoded data removed]",
      "text/plain": [
       "<matplotlib.figure.Figure at 0x24780e16ac8>"
      ]
     },
     "metadata": {},
     "output_type": "display_data"
    }
   ],
   "source": [
    "sns.distplot(random_search.cv_results_['mean_test_score'])"
   ]
  },
  {
   "cell_type": "raw",
   "metadata": {
    "ExecuteTime": {
     "end_time": "2018-06-30T23:25:08.218151Z",
     "start_time": "2018-06-30T23:25:08.093113Z"
    }
   },
   "source": [
    "scipy.stats.uniform?"
   ]
  },
  {
   "cell_type": "markdown",
   "metadata": {},
   "source": [
    "# Additional Frameworks"
   ]
  },
  {
   "cell_type": "markdown",
   "metadata": {},
   "source": [
    "### XGBoost"
   ]
  },
  {
   "cell_type": "code",
   "execution_count": null,
   "metadata": {},
   "outputs": [],
   "source": []
  },
  {
   "cell_type": "markdown",
   "metadata": {},
   "source": [
    "#### Hyperparameter Tuning"
   ]
  },
  {
   "cell_type": "code",
   "execution_count": null,
   "metadata": {},
   "outputs": [],
   "source": []
  },
  {
   "cell_type": "markdown",
   "metadata": {},
   "source": [
    "### LightGBM"
   ]
  },
  {
   "cell_type": "code",
   "execution_count": 15,
   "metadata": {
    "ExecuteTime": {
     "end_time": "2018-06-30T23:42:59.541441Z",
     "start_time": "2018-06-30T23:42:59.307099Z"
    }
   },
   "outputs": [
    {
     "name": "stdout",
     "output_type": "stream",
     "text": [
      "Training the model\n",
      "Completed\n"
     ]
    },
    {
     "data": {
      "text/html": [
       "<div>\n",
       "<style scoped>\n",
       "    .dataframe tbody tr th:only-of-type {\n",
       "        vertical-align: middle;\n",
       "    }\n",
       "\n",
       "    .dataframe tbody tr th {\n",
       "        vertical-align: top;\n",
       "    }\n",
       "\n",
       "    .dataframe thead th {\n",
       "        text-align: right;\n",
       "    }\n",
       "</style>\n",
       "<table border=\"1\" class=\"dataframe\">\n",
       "  <thead>\n",
       "    <tr style=\"text-align: right;\">\n",
       "      <th></th>\n",
       "      <th>Accuracy</th>\n",
       "      <th>LogLoss</th>\n",
       "      <th>ExecutionTime</th>\n",
       "      <th>IsTuned</th>\n",
       "    </tr>\n",
       "  </thead>\n",
       "  <tbody>\n",
       "    <tr>\n",
       "      <th>Logistic Regression</th>\n",
       "      <td>0.880556</td>\n",
       "      <td>0.297400</td>\n",
       "      <td>0.093744</td>\n",
       "      <td>0.0</td>\n",
       "    </tr>\n",
       "    <tr>\n",
       "      <th>Random Forest</th>\n",
       "      <td>0.924111</td>\n",
       "      <td>0.479334</td>\n",
       "      <td>0.765581</td>\n",
       "      <td>0.0</td>\n",
       "    </tr>\n",
       "    <tr>\n",
       "      <th>AdaBoost</th>\n",
       "      <td>0.888000</td>\n",
       "      <td>0.658270</td>\n",
       "      <td>4.796587</td>\n",
       "      <td>0.0</td>\n",
       "    </tr>\n",
       "    <tr>\n",
       "      <th>Gradient Boosted Trees</th>\n",
       "      <td>0.912889</td>\n",
       "      <td>0.204186</td>\n",
       "      <td>6.952721</td>\n",
       "      <td>0.0</td>\n",
       "    </tr>\n",
       "    <tr>\n",
       "      <th>LightGBM</th>\n",
       "      <td>0.929111</td>\n",
       "      <td>0.311384</td>\n",
       "      <td>0.140618</td>\n",
       "      <td>0.0</td>\n",
       "    </tr>\n",
       "  </tbody>\n",
       "</table>\n",
       "</div>"
      ],
      "text/plain": [
       "                        Accuracy   LogLoss  ExecutionTime  IsTuned\n",
       "Logistic Regression     0.880556  0.297400       0.093744      0.0\n",
       "Random Forest           0.924111  0.479334       0.765581      0.0\n",
       "AdaBoost                0.888000  0.658270       4.796587      0.0\n",
       "Gradient Boosted Trees  0.912889  0.204186       6.952721      0.0\n",
       "LightGBM                0.929111  0.311384       0.140618      0.0"
      ]
     },
     "execution_count": 15,
     "metadata": {},
     "output_type": "execute_result"
    }
   ],
   "source": [
    "import lightgbm as lgb\n",
    "\n",
    "lightgbm = lgb.LGBMClassifier(nthread=-1)  # nthread=-1 uses all available cores\n",
    "\n",
    "# Due to the scikit-learn API option, LightGBM works with our function!\n",
    "train_model_get_results(lightgbm, 'LightGBM')"
   ]
  },
  {
   "cell_type": "markdown",
   "metadata": {},
   "source": [
    "#### Hyperparameter Tuning"
   ]
  },
  {
   "cell_type": "code",
   "execution_count": null,
   "metadata": {},
   "outputs": [],
   "source": []
  },
  {
   "cell_type": "markdown",
   "metadata": {},
   "source": [
    "### h2o"
   ]
  },
  {
   "cell_type": "code",
   "execution_count": null,
   "metadata": {},
   "outputs": [],
   "source": []
  },
  {
   "cell_type": "markdown",
   "metadata": {
    "ExecuteTime": {
     "end_time": "2018-06-30T22:49:10.004671Z",
     "start_time": "2018-06-30T22:49:09.989043Z"
    }
   },
   "source": [
    "#### Hyperparameter Tuning"
   ]
  },
  {
   "cell_type": "code",
   "execution_count": null,
   "metadata": {},
   "outputs": [],
   "source": []
  }
 ],
 "metadata": {
  "kernelspec": {
   "display_name": "Python [default]",
   "language": "python",
   "name": "python3"
  },
  "language_info": {
   "codemirror_mode": {
    "name": "ipython",
    "version": 3
   },
   "file_extension": ".py",
   "mimetype": "text/x-python",
   "name": "python",
   "nbconvert_exporter": "python",
   "pygments_lexer": "ipython3",
   "version": "3.5.5"
  },
  "varInspector": {
   "cols": {
    "lenName": 16,
    "lenType": 16,
    "lenVar": 40
   },
   "kernels_config": {
    "python": {
     "delete_cmd_postfix": "",
     "delete_cmd_prefix": "del ",
     "library": "var_list.py",
     "varRefreshCmd": "print(var_dic_list())"
    },
    "r": {
     "delete_cmd_postfix": ") ",
     "delete_cmd_prefix": "rm(",
     "library": "var_list.r",
     "varRefreshCmd": "cat(var_dic_list()) "
    }
   },
   "types_to_exclude": [
    "module",
    "function",
    "builtin_function_or_method",
    "instance",
    "_Feature"
   ],
   "window_display": false
  }
 },
 "nbformat": 4,
 "nbformat_minor": 2
}
