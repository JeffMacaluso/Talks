{
 "cells": [
  {
   "cell_type": "markdown",
   "metadata": {},
   "source": [
    "# Ensemble Methods\n",
    "\n",
    "**TODO: Mention continuation of presentation**\n",
    "\n",
    "**TODO: Link slides**\n",
    "\n",
    "## Overview\n",
    "\n",
    "**TODO: Mention using scikit-learn for basic algorithms, hyperparameter tuning them, then using additional frameworks**\n",
    "\n",
    "## Setup\n",
    "\n",
    "**TODO: Talk about what is being set up and why**"
   ]
  },
  {
   "cell_type": "code",
   "execution_count": 1,
   "metadata": {
    "ExecuteTime": {
     "end_time": "2018-07-01T18:53:04.069919Z",
     "start_time": "2018-07-01T18:53:01.851301Z"
    }
   },
   "outputs": [
    {
     "name": "stdout",
     "output_type": "stream",
     "text": [
      "2018/07/01 13:53\n",
      "OS: win32\n",
      "Python: 3.5.5 | packaged by conda-forge | (default, Apr  6 2018, 16:03:44) [MSC v.1900 64 bit (AMD64)]\n",
      "NumPy: 1.12.1\n",
      "Pandas: 0.23.1\n"
     ]
    }
   ],
   "source": [
    "# TODO: Trim out any of these that aren't used\n",
    "\n",
    "import sys\n",
    "import time\n",
    "import scipy\n",
    "import numpy as np\n",
    "import pandas as pd\n",
    "import matplotlib.pyplot as plt\n",
    "import seaborn as sns\n",
    "\n",
    "from sklearn import datasets\n",
    "from sklearn.model_selection import train_test_split\n",
    "from sklearn.model_selection import RandomizedSearchCV\n",
    "from sklearn import ensemble\n",
    "from sklearn import linear_model\n",
    "from sklearn import metrics\n",
    "\n",
    "print(time.strftime('%Y/%m/%d %H:%M'))\n",
    "print('OS:', sys.platform)\n",
    "print('Python:', sys.version)\n",
    "print('NumPy:', np.__version__)\n",
    "print('Pandas:', pd.__version__)\n",
    "\n",
    "# Formatting for seaborn plots\n",
    "sns.set_context('notebook', font_scale=1.1)\n",
    "sns.set_style('ticks')\n",
    "\n",
    "# Displays all dataframe columns\n",
    "pd.set_option('display.max_columns', None)\n",
    "\n",
    "%matplotlib inline"
   ]
  },
  {
   "cell_type": "markdown",
   "metadata": {},
   "source": [
    "Creating an artificial data set"
   ]
  },
  {
   "cell_type": "code",
   "execution_count": 70,
   "metadata": {
    "ExecuteTime": {
     "end_time": "2018-07-01T19:46:53.165213Z",
     "start_time": "2018-07-01T19:46:53.071469Z"
    }
   },
   "outputs": [
    {
     "data": {
      "text/html": [
       "<div>\n",
       "<style scoped>\n",
       "    .dataframe tbody tr th:only-of-type {\n",
       "        vertical-align: middle;\n",
       "    }\n",
       "\n",
       "    .dataframe tbody tr th {\n",
       "        vertical-align: top;\n",
       "    }\n",
       "\n",
       "    .dataframe thead th {\n",
       "        text-align: right;\n",
       "    }\n",
       "</style>\n",
       "<table border=\"1\" class=\"dataframe\">\n",
       "  <thead>\n",
       "    <tr style=\"text-align: right;\">\n",
       "      <th></th>\n",
       "      <th>0</th>\n",
       "      <th>1</th>\n",
       "      <th>2</th>\n",
       "      <th>3</th>\n",
       "      <th>4</th>\n",
       "      <th>5</th>\n",
       "      <th>6</th>\n",
       "      <th>7</th>\n",
       "      <th>8</th>\n",
       "      <th>9</th>\n",
       "      <th>10</th>\n",
       "      <th>11</th>\n",
       "      <th>12</th>\n",
       "      <th>13</th>\n",
       "      <th>14</th>\n",
       "      <th>15</th>\n",
       "      <th>16</th>\n",
       "      <th>17</th>\n",
       "      <th>18</th>\n",
       "      <th>19</th>\n",
       "      <th>label</th>\n",
       "    </tr>\n",
       "  </thead>\n",
       "  <tbody>\n",
       "    <tr>\n",
       "      <th>0</th>\n",
       "      <td>-0.343920</td>\n",
       "      <td>2.183724</td>\n",
       "      <td>-0.329355</td>\n",
       "      <td>0.726638</td>\n",
       "      <td>0.957844</td>\n",
       "      <td>0.608154</td>\n",
       "      <td>0.694615</td>\n",
       "      <td>-0.605511</td>\n",
       "      <td>-0.455621</td>\n",
       "      <td>0.176618</td>\n",
       "      <td>-1.124230</td>\n",
       "      <td>-0.865299</td>\n",
       "      <td>0.570698</td>\n",
       "      <td>-0.153149</td>\n",
       "      <td>-1.091536</td>\n",
       "      <td>0.234417</td>\n",
       "      <td>0.721312</td>\n",
       "      <td>0.547745</td>\n",
       "      <td>-0.289200</td>\n",
       "      <td>-1.191409</td>\n",
       "      <td>1</td>\n",
       "    </tr>\n",
       "    <tr>\n",
       "      <th>1</th>\n",
       "      <td>0.774190</td>\n",
       "      <td>-2.016869</td>\n",
       "      <td>-0.021031</td>\n",
       "      <td>-0.906889</td>\n",
       "      <td>-0.029434</td>\n",
       "      <td>-0.441084</td>\n",
       "      <td>0.107174</td>\n",
       "      <td>0.855932</td>\n",
       "      <td>-0.935103</td>\n",
       "      <td>0.362387</td>\n",
       "      <td>0.213634</td>\n",
       "      <td>1.057745</td>\n",
       "      <td>-1.475432</td>\n",
       "      <td>0.947640</td>\n",
       "      <td>0.656730</td>\n",
       "      <td>1.404927</td>\n",
       "      <td>0.969326</td>\n",
       "      <td>-0.394462</td>\n",
       "      <td>1.108383</td>\n",
       "      <td>0.895234</td>\n",
       "      <td>1</td>\n",
       "    </tr>\n",
       "    <tr>\n",
       "      <th>2</th>\n",
       "      <td>0.374310</td>\n",
       "      <td>-0.526407</td>\n",
       "      <td>-0.014263</td>\n",
       "      <td>-0.616020</td>\n",
       "      <td>-0.532336</td>\n",
       "      <td>-0.439311</td>\n",
       "      <td>-0.355215</td>\n",
       "      <td>0.537372</td>\n",
       "      <td>0.025556</td>\n",
       "      <td>0.975785</td>\n",
       "      <td>0.667766</td>\n",
       "      <td>0.728247</td>\n",
       "      <td>-0.666881</td>\n",
       "      <td>0.484163</td>\n",
       "      <td>0.938401</td>\n",
       "      <td>0.164457</td>\n",
       "      <td>-0.163050</td>\n",
       "      <td>0.033533</td>\n",
       "      <td>0.671236</td>\n",
       "      <td>0.868102</td>\n",
       "      <td>1</td>\n",
       "    </tr>\n",
       "    <tr>\n",
       "      <th>3</th>\n",
       "      <td>-0.467427</td>\n",
       "      <td>-1.104554</td>\n",
       "      <td>0.197691</td>\n",
       "      <td>0.361233</td>\n",
       "      <td>-0.525898</td>\n",
       "      <td>0.029103</td>\n",
       "      <td>-0.491823</td>\n",
       "      <td>-0.387143</td>\n",
       "      <td>1.065813</td>\n",
       "      <td>0.591295</td>\n",
       "      <td>0.463344</td>\n",
       "      <td>-0.411085</td>\n",
       "      <td>0.939574</td>\n",
       "      <td>0.309666</td>\n",
       "      <td>0.261822</td>\n",
       "      <td>-1.052417</td>\n",
       "      <td>-1.248117</td>\n",
       "      <td>0.424516</td>\n",
       "      <td>0.139155</td>\n",
       "      <td>-0.083763</td>\n",
       "      <td>1</td>\n",
       "    </tr>\n",
       "    <tr>\n",
       "      <th>4</th>\n",
       "      <td>1.249810</td>\n",
       "      <td>0.070364</td>\n",
       "      <td>0.025214</td>\n",
       "      <td>-1.091843</td>\n",
       "      <td>1.038544</td>\n",
       "      <td>-0.238204</td>\n",
       "      <td>1.026244</td>\n",
       "      <td>1.122799</td>\n",
       "      <td>-2.510867</td>\n",
       "      <td>0.220845</td>\n",
       "      <td>-0.838387</td>\n",
       "      <td>1.253015</td>\n",
       "      <td>-2.479266</td>\n",
       "      <td>-1.013690</td>\n",
       "      <td>-1.001703</td>\n",
       "      <td>1.343505</td>\n",
       "      <td>2.889017</td>\n",
       "      <td>1.069103</td>\n",
       "      <td>0.163846</td>\n",
       "      <td>0.532796</td>\n",
       "      <td>0</td>\n",
       "    </tr>\n",
       "  </tbody>\n",
       "</table>\n",
       "</div>"
      ],
      "text/plain": [
       "          0         1         2         3         4         5         6  \\\n",
       "0 -0.343920  2.183724 -0.329355  0.726638  0.957844  0.608154  0.694615   \n",
       "1  0.774190 -2.016869 -0.021031 -0.906889 -0.029434 -0.441084  0.107174   \n",
       "2  0.374310 -0.526407 -0.014263 -0.616020 -0.532336 -0.439311 -0.355215   \n",
       "3 -0.467427 -1.104554  0.197691  0.361233 -0.525898  0.029103 -0.491823   \n",
       "4  1.249810  0.070364  0.025214 -1.091843  1.038544 -0.238204  1.026244   \n",
       "\n",
       "          7         8         9        10        11        12        13  \\\n",
       "0 -0.605511 -0.455621  0.176618 -1.124230 -0.865299  0.570698 -0.153149   \n",
       "1  0.855932 -0.935103  0.362387  0.213634  1.057745 -1.475432  0.947640   \n",
       "2  0.537372  0.025556  0.975785  0.667766  0.728247 -0.666881  0.484163   \n",
       "3 -0.387143  1.065813  0.591295  0.463344 -0.411085  0.939574  0.309666   \n",
       "4  1.122799 -2.510867  0.220845 -0.838387  1.253015 -2.479266 -1.013690   \n",
       "\n",
       "         14        15        16        17        18        19  label  \n",
       "0 -1.091536  0.234417  0.721312  0.547745 -0.289200 -1.191409      1  \n",
       "1  0.656730  1.404927  0.969326 -0.394462  1.108383  0.895234      1  \n",
       "2  0.938401  0.164457 -0.163050  0.033533  0.671236  0.868102      1  \n",
       "3  0.261822 -1.052417 -1.248117  0.424516  0.139155 -0.083763      1  \n",
       "4 -1.001703  1.343505  2.889017  1.069103  0.163846  0.532796      0  "
      ]
     },
     "execution_count": 70,
     "metadata": {},
     "output_type": "execute_result"
    }
   ],
   "source": [
    "# Creating an artificial dataset to test algorithms on\n",
    "data = datasets.make_classification(n_samples=10000,\n",
    "                                    n_features=20,\n",
    "                                    n_redundant=10,  # Superfluous features working as noise for the algorithms\n",
    "                                    n_classes=2,\n",
    "                                    random_state=46)\n",
    "\n",
    "# Assigning features/labels to variables for ease of use\n",
    "X = data[0]\n",
    "y = data[1]\n",
    "\n",
    "# Train/test split\n",
    "X_train, X_test, y_train, y_test = train_test_split(X, y, test_size=0.30, random_state=46)\n",
    "\n",
    "# Putting into a dataframe for viewing\n",
    "df = pd.DataFrame(X)\n",
    "df['label'] = y\n",
    "\n",
    "df.head()"
   ]
  },
  {
   "cell_type": "markdown",
   "metadata": {},
   "source": [
    "**TODO: Talk about creating this function for gathering results**"
   ]
  },
  {
   "cell_type": "code",
   "execution_count": 137,
   "metadata": {
    "ExecuteTime": {
     "end_time": "2018-07-04T03:51:09.196489Z",
     "start_time": "2018-07-04T03:51:09.149608Z"
    }
   },
   "outputs": [],
   "source": [
    "# Data frame for gathering results \n",
    "results = pd.DataFrame(columns=['Accuracy', 'LogLoss', 'AUC', 'TrainingTime'])\n",
    "tuned_results = results.copy()\n",
    "\n",
    "# Function for training a model and retrieving the results\n",
    "def train_model_get_results(model, model_name):\n",
    "    '''\n",
    "    Trains a model and appends the results to the results dataframe\n",
    "    \n",
    "    Input:\n",
    "        - model: The model with specified hyperparameters to be trained\n",
    "        - model_name: The name of the model to be used as the index\n",
    "        - is_tuned: A binary flag for if hyperparameter tuning has been performed\n",
    "    \n",
    "    Output: The results dataframe with the model results added\n",
    "    \n",
    "    Note: Only works with scikit-learn models\n",
    "    '''\n",
    "    \n",
    "    # Collecting training time for results\n",
    "    start_time = time.time()\n",
    "    \n",
    "    print('Training the model')\n",
    "    model.fit(X_train, y_train)\n",
    "    \n",
    "    end_time = time.time()\n",
    "    total_training_time = end_time - start_time\n",
    "    print('Completed')\n",
    "    \n",
    "    # Calculating the testing set accuracy with the score method\n",
    "    accuracy = model.score(X_test, y_test)\n",
    "    \n",
    "    # Calcuating the log loss with predicted probabilities\n",
    "    class_probabilities = model.predict_proba(X_test)\n",
    "    log_loss = metrics.log_loss(y_test, class_probabilities)\n",
    "    auc = metrics.roc_auc_score(y_test, class_probabilities[:, 1])\n",
    "    \n",
    "    # Adding the model results to the results dataframe\n",
    "    model_results = [accuracy, log_loss, auc, total_training_time]\n",
    "    results.loc[model_name] = model_results\n",
    "    \n",
    "    print('\\n', 'Non-tuned results:')\n",
    "    return results"
   ]
  },
  {
   "cell_type": "markdown",
   "metadata": {},
   "source": [
    "## Baseline\n",
    "\n",
    "It's always useful to have a baseline to compare against. I like to use linear/logistic regression due to them being extremely fast to train.\n",
    "\n",
    "**TODO:** Say something about wanting to be better than random chance or something"
   ]
  },
  {
   "cell_type": "code",
   "execution_count": 138,
   "metadata": {
    "ExecuteTime": {
     "end_time": "2018-07-04T03:51:10.290159Z",
     "start_time": "2018-07-04T03:51:10.180931Z"
    }
   },
   "outputs": [
    {
     "name": "stdout",
     "output_type": "stream",
     "text": [
      "Training the model\n",
      "Completed\n",
      "\n",
      " Non-tuned results:\n"
     ]
    },
    {
     "data": {
      "text/html": [
       "<div>\n",
       "<style scoped>\n",
       "    .dataframe tbody tr th:only-of-type {\n",
       "        vertical-align: middle;\n",
       "    }\n",
       "\n",
       "    .dataframe tbody tr th {\n",
       "        vertical-align: top;\n",
       "    }\n",
       "\n",
       "    .dataframe thead th {\n",
       "        text-align: right;\n",
       "    }\n",
       "</style>\n",
       "<table border=\"1\" class=\"dataframe\">\n",
       "  <thead>\n",
       "    <tr style=\"text-align: right;\">\n",
       "      <th></th>\n",
       "      <th>Accuracy</th>\n",
       "      <th>LogLoss</th>\n",
       "      <th>AUC</th>\n",
       "      <th>TrainingTime</th>\n",
       "    </tr>\n",
       "  </thead>\n",
       "  <tbody>\n",
       "    <tr>\n",
       "      <th>Logistic Regression</th>\n",
       "      <td>0.899333</td>\n",
       "      <td>0.245198</td>\n",
       "      <td>0.962937</td>\n",
       "      <td>0.046895</td>\n",
       "    </tr>\n",
       "  </tbody>\n",
       "</table>\n",
       "</div>"
      ],
      "text/plain": [
       "                     Accuracy   LogLoss       AUC  TrainingTime\n",
       "Logistic Regression  0.899333  0.245198  0.962937      0.046895"
      ]
     },
     "execution_count": 138,
     "metadata": {},
     "output_type": "execute_result"
    }
   ],
   "source": [
    "# Instantiating the model\n",
    "logistic_regression = linear_model.LogisticRegression()\n",
    "\n",
    "# Using our user defined function to train the model and return the results\n",
    "train_model_get_results(model=logistic_regression, model_name='Logistic Regression')"
   ]
  },
  {
   "cell_type": "markdown",
   "metadata": {
    "ExecuteTime": {
     "end_time": "2018-06-30T21:52:49.624668Z",
     "start_time": "2018-06-30T21:52:49.593513Z"
    }
   },
   "source": [
    "## Bagging\n",
    "\n",
    "Bagging (bootstrap aggregating) is the technique that aggregates models built with bootstrapping, or sampling with replacement, via a majority vote or by averaging the predictions. The trees are independent of each other and can be built in parallel. \n",
    "\n",
    "Bagging models tend to decrease variance.\n",
    "\n",
    "### Random Forest\n",
    "\n",
    "The most popular bagging algorithm is the **random forest**. This algorithm works by building a series of decision trees where each tree uses a random selection of variables, and then decision trees vote on the final answer.  \n",
    "\n",
    "More specifically, for each tree:\n",
    "\n",
    "- Use a different training sample with replacement (bootstrapping) for the data\n",
    "- For each node, choose a number of random attributes and find the best split\n",
    "- Typically is not pruned in order to have a smaller bias\n",
    "\n",
    "Once these trees are grown, a majority vote among all of the trees will be used to make predictions.\n",
    "\n",
    "The main ideas here are that the randomness makes a set of diverse models that helps improve accuracy and using random subsets of features at each split helps make it more efficient.\n",
    "\n",
    "<img src=\"http://www.globalsoftwaresupport.com/wp-content/uploads/2018/02/ggff5544hh.png\">\n",
    "\n",
    "**Advantages:**\n",
    "- Robustness against over-fitting\n",
    "    - Since the model is created through dense randomness, the generalization is typically better, and you can usually increase the accuracy with the number of trees up until a saturation point\n",
    "- Soft thresholding (boundaries) on the instance space.\n",
    "- Able to parallelize training multiple trees at once and thus speed up training time"
   ]
  },
  {
   "cell_type": "code",
   "execution_count": 139,
   "metadata": {
    "ExecuteTime": {
     "end_time": "2018-07-04T03:51:11.665080Z",
     "start_time": "2018-07-04T03:51:11.149483Z"
    }
   },
   "outputs": [
    {
     "name": "stdout",
     "output_type": "stream",
     "text": [
      "Training the model\n",
      "Completed\n",
      "\n",
      " Non-tuned results:\n"
     ]
    },
    {
     "data": {
      "text/html": [
       "<div>\n",
       "<style scoped>\n",
       "    .dataframe tbody tr th:only-of-type {\n",
       "        vertical-align: middle;\n",
       "    }\n",
       "\n",
       "    .dataframe tbody tr th {\n",
       "        vertical-align: top;\n",
       "    }\n",
       "\n",
       "    .dataframe thead th {\n",
       "        text-align: right;\n",
       "    }\n",
       "</style>\n",
       "<table border=\"1\" class=\"dataframe\">\n",
       "  <thead>\n",
       "    <tr style=\"text-align: right;\">\n",
       "      <th></th>\n",
       "      <th>Accuracy</th>\n",
       "      <th>LogLoss</th>\n",
       "      <th>AUC</th>\n",
       "      <th>TrainingTime</th>\n",
       "    </tr>\n",
       "  </thead>\n",
       "  <tbody>\n",
       "    <tr>\n",
       "      <th>Logistic Regression</th>\n",
       "      <td>0.899333</td>\n",
       "      <td>0.245198</td>\n",
       "      <td>0.962937</td>\n",
       "      <td>0.046895</td>\n",
       "    </tr>\n",
       "    <tr>\n",
       "      <th>Random Forest</th>\n",
       "      <td>0.974333</td>\n",
       "      <td>0.396258</td>\n",
       "      <td>0.985851</td>\n",
       "      <td>0.265627</td>\n",
       "    </tr>\n",
       "  </tbody>\n",
       "</table>\n",
       "</div>"
      ],
      "text/plain": [
       "                     Accuracy   LogLoss       AUC  TrainingTime\n",
       "Logistic Regression  0.899333  0.245198  0.962937      0.046895\n",
       "Random Forest        0.974333  0.396258  0.985851      0.265627"
      ]
     },
     "execution_count": 139,
     "metadata": {},
     "output_type": "execute_result"
    }
   ],
   "source": [
    "random_forest = ensemble.RandomForestClassifier(n_jobs=-1)  # n_jobs=-1 uses all available cores\n",
    "\n",
    "train_model_get_results(random_forest, model_name='Random Forest')"
   ]
  },
  {
   "cell_type": "markdown",
   "metadata": {},
   "source": [
    "## Boosting\n",
    "\n",
    "Boosting methods train a sequence of weak learners (a learner that is barely better than random chance) where each successive model focuses on the parts that the previous model got wrong. The trees have to be built in a sequence and generally cannot be built in parallel without clever tricks.\n",
    "\n",
    "Boosting models tend to decrease bias.\n",
    "\n",
    "### Gradient Boosting\n",
    "\n",
    "**TODO: Explain gradient boosting, how it works, and its advantages**\n",
    "\n",
    "<img src=\"https://littleml.files.wordpress.com/2017/03/boosted-trees-process.png\">\n",
    "\n",
    "*Source: [BigML](https://blog.bigml.com/2017/03/14/introduction-to-boosted-trees/)*\n",
    "\n",
    "**Disadvantages:**\n",
    "- Typically overfits easier than bagging\n",
    "- Sensitive to noise & extreme values\n",
    "- Has to be built sequentially, so cannot parallelize"
   ]
  },
  {
   "cell_type": "code",
   "execution_count": 140,
   "metadata": {
    "ExecuteTime": {
     "end_time": "2018-07-04T03:51:14.758640Z",
     "start_time": "2018-07-04T03:51:12.571443Z"
    }
   },
   "outputs": [
    {
     "name": "stdout",
     "output_type": "stream",
     "text": [
      "Training the model\n",
      "Completed\n",
      "\n",
      " Non-tuned results:\n"
     ]
    },
    {
     "data": {
      "text/html": [
       "<div>\n",
       "<style scoped>\n",
       "    .dataframe tbody tr th:only-of-type {\n",
       "        vertical-align: middle;\n",
       "    }\n",
       "\n",
       "    .dataframe tbody tr th {\n",
       "        vertical-align: top;\n",
       "    }\n",
       "\n",
       "    .dataframe thead th {\n",
       "        text-align: right;\n",
       "    }\n",
       "</style>\n",
       "<table border=\"1\" class=\"dataframe\">\n",
       "  <thead>\n",
       "    <tr style=\"text-align: right;\">\n",
       "      <th></th>\n",
       "      <th>Accuracy</th>\n",
       "      <th>LogLoss</th>\n",
       "      <th>AUC</th>\n",
       "      <th>TrainingTime</th>\n",
       "    </tr>\n",
       "  </thead>\n",
       "  <tbody>\n",
       "    <tr>\n",
       "      <th>Logistic Regression</th>\n",
       "      <td>0.899333</td>\n",
       "      <td>0.245198</td>\n",
       "      <td>0.962937</td>\n",
       "      <td>0.046895</td>\n",
       "    </tr>\n",
       "    <tr>\n",
       "      <th>Random Forest</th>\n",
       "      <td>0.974333</td>\n",
       "      <td>0.396258</td>\n",
       "      <td>0.985851</td>\n",
       "      <td>0.265627</td>\n",
       "    </tr>\n",
       "    <tr>\n",
       "      <th>Gradient Boosted Trees</th>\n",
       "      <td>0.973000</td>\n",
       "      <td>0.103414</td>\n",
       "      <td>0.987237</td>\n",
       "      <td>2.140326</td>\n",
       "    </tr>\n",
       "  </tbody>\n",
       "</table>\n",
       "</div>"
      ],
      "text/plain": [
       "                        Accuracy   LogLoss       AUC  TrainingTime\n",
       "Logistic Regression     0.899333  0.245198  0.962937      0.046895\n",
       "Random Forest           0.974333  0.396258  0.985851      0.265627\n",
       "Gradient Boosted Trees  0.973000  0.103414  0.987237      2.140326"
      ]
     },
     "execution_count": 140,
     "metadata": {},
     "output_type": "execute_result"
    }
   ],
   "source": [
    "gradient_boosting = ensemble.GradientBoostingClassifier()\n",
    "\n",
    "train_model_get_results(gradient_boosting, model_name='Gradient Boosted Trees')"
   ]
  },
  {
   "cell_type": "markdown",
   "metadata": {},
   "source": [
    "### Note on interpretability\n",
    "\n",
    "It's possible to obtain \"feature importance\" from both bagging and boosting methods. These are not as interpretable as coefficients from linear/logistic regressions, but can still give us an idea of what is happening. \n",
    "\n",
    "Note that the multicollinearity assumption applies here - these interpretations will be misleading if the features are heavily correlated with each other."
   ]
  },
  {
   "cell_type": "code",
   "execution_count": 148,
   "metadata": {
    "ExecuteTime": {
     "end_time": "2018-07-04T03:53:58.623718Z",
     "start_time": "2018-07-04T03:53:58.030022Z"
    }
   },
   "outputs": [
    {
     "data": {
      "image/png": "[encoded data removed]",
      "text/plain": [
       "<matplotlib.figure.Figure at 0x20d6748be80>"
      ]
     },
     "metadata": {},
     "output_type": "display_data"
    }
   ],
   "source": [
    "def feature_importance(model):\n",
    "    '''\n",
    "    Plots the feature importance for an ensemble model\n",
    "    '''\n",
    "    feature_importance = model.feature_importances_\n",
    "    feature_importance = 100.0 * (feature_importance / feature_importance.max())\n",
    "    sorted_idx = np.argsort(feature_importance)\n",
    "    pos = np.arange(sorted_idx.shape[0]) + .5\n",
    "    plt.figure(figsize=(15, 8))\n",
    "    plt.subplot(1, 2, 2)\n",
    "    plt.barh(pos, feature_importance[sorted_idx], align='center')\n",
    "    plt.yticks(pos, sorted_idx)\n",
    "    plt.xlabel('Relative Importance')\n",
    "    plt.title('Variable Importance')\n",
    "    plt.show()\n",
    "    \n",
    "\n",
    "feature_importance(random_forest)"
   ]
  },
  {
   "cell_type": "markdown",
   "metadata": {},
   "source": [
    "## Stacking\n",
    "\n",
    "**TODO: Explain stacking, how it works, and its advantages/disadvantages**\n",
    "\n",
    "**TODO: Include a picture for stacking**\n",
    "\n",
    "**TODO: Check if there's a better way to do stacking w/ scikit-learn**\n",
    "\n",
    "**TODO: Check if there's a way to avoid repeating fit/predict lines**"
   ]
  },
  {
   "cell_type": "code",
   "execution_count": 178,
   "metadata": {
    "ExecuteTime": {
     "end_time": "2018-07-04T04:08:52.451187Z",
     "start_time": "2018-07-04T04:08:44.795400Z"
    }
   },
   "outputs": [
    {
     "name": "stdout",
     "output_type": "stream",
     "text": [
      "Training the model\n",
      "Completed\n"
     ]
    },
    {
     "data": {
      "text/html": [
       "<div>\n",
       "<style scoped>\n",
       "    .dataframe tbody tr th:only-of-type {\n",
       "        vertical-align: middle;\n",
       "    }\n",
       "\n",
       "    .dataframe tbody tr th {\n",
       "        vertical-align: top;\n",
       "    }\n",
       "\n",
       "    .dataframe thead th {\n",
       "        text-align: right;\n",
       "    }\n",
       "</style>\n",
       "<table border=\"1\" class=\"dataframe\">\n",
       "  <thead>\n",
       "    <tr style=\"text-align: right;\">\n",
       "      <th></th>\n",
       "      <th>Accuracy</th>\n",
       "      <th>LogLoss</th>\n",
       "      <th>AUC</th>\n",
       "      <th>TrainingTime</th>\n",
       "    </tr>\n",
       "  </thead>\n",
       "  <tbody>\n",
       "    <tr>\n",
       "      <th>Logistic Regression</th>\n",
       "      <td>0.899333</td>\n",
       "      <td>0.245198</td>\n",
       "      <td>0.962937</td>\n",
       "      <td>0.046895</td>\n",
       "    </tr>\n",
       "    <tr>\n",
       "      <th>Random Forest</th>\n",
       "      <td>0.974333</td>\n",
       "      <td>0.396258</td>\n",
       "      <td>0.985851</td>\n",
       "      <td>0.265627</td>\n",
       "    </tr>\n",
       "    <tr>\n",
       "      <th>Gradient Boosted Trees</th>\n",
       "      <td>0.973000</td>\n",
       "      <td>0.103414</td>\n",
       "      <td>0.987237</td>\n",
       "      <td>2.140326</td>\n",
       "    </tr>\n",
       "    <tr>\n",
       "      <th>Stacking</th>\n",
       "      <td>0.972667</td>\n",
       "      <td>0.114333</td>\n",
       "      <td>0.986697</td>\n",
       "      <td>6.983958</td>\n",
       "    </tr>\n",
       "  </tbody>\n",
       "</table>\n",
       "</div>"
      ],
      "text/plain": [
       "                        Accuracy   LogLoss       AUC  TrainingTime\n",
       "Logistic Regression     0.899333  0.245198  0.962937      0.046895\n",
       "Random Forest           0.974333  0.396258  0.985851      0.265627\n",
       "Gradient Boosted Trees  0.973000  0.103414  0.987237      2.140326\n",
       "Stacking                0.972667  0.114333  0.986697      6.983958"
      ]
     },
     "execution_count": 178,
     "metadata": {},
     "output_type": "execute_result"
    }
   ],
   "source": [
    "def train_stacking_get_results(list_of_models):\n",
    "    '''\n",
    "    TODO: Write docstring\n",
    "    '''\n",
    "    # The meta learner is the one that takes the outputs from\n",
    "    # the other models as input before final classification\n",
    "    meta_learner = linear_model.LogisticRegression()\n",
    "\n",
    "    # Collecting training time for results\n",
    "    start_time = time.time()\n",
    "    print('Training the model')\n",
    "\n",
    "    # Fitting the first layer models\n",
    "    for model in list_of_models:\n",
    "        model.fit(X_train, y_train)\n",
    "\n",
    "    # Collecting the predictions from the models for training\n",
    "    model_output = []\n",
    "\n",
    "    for model in list_of_models:\n",
    "        class_probabilities = model.predict_proba(X_train)[:, 1]\n",
    "        model_output.append(class_probabilities)\n",
    "\n",
    "    # Re-shaping before passing to the meta learner\n",
    "    X_train_meta = np.array(model_output).transpose()\n",
    "\n",
    "    # Fitting the meta learner\n",
    "    meta_learner.fit(X_train_meta, y_train)\n",
    "\n",
    "    end_time = time.time()\n",
    "    total_time = end_time - start_time\n",
    "    print('Completed')\n",
    "\n",
    "    # Collecting the predictions from the models for testing\n",
    "    model_output = []\n",
    "\n",
    "    for model in list_of_models:\n",
    "        class_probabilities = model.predict_proba(X_test)[:, 1]\n",
    "        model_output.append(class_probabilities)\n",
    "\n",
    "    # Re-shaping before passing to the meta learner\n",
    "    X_test_meta = np.array(model_output).transpose()\n",
    "\n",
    "    # Collecting the accuracy from the meta learner\n",
    "    accuracy = meta_learner.score(X_test_meta, y_test)\n",
    "\n",
    "    # Calcuating the log loss with predicted probabilities\n",
    "    class_probabilities = meta_learner.predict_proba(X_test_meta)\n",
    "    log_loss = metrics.log_loss(y_test, class_probabilities)\n",
    "    auc = metrics.roc_auc_score(y_test, class_probabilities[:, 1])\n",
    "\n",
    "    model_results = [accuracy, log_loss, auc, total_time]\n",
    "\n",
    "    results.loc['Stacking'] = model_results\n",
    "\n",
    "    return results\n",
    "\n",
    "\n",
    "# Adding extra imports for additional models\n",
    "from sklearn import neighbors\n",
    "from sklearn import svm\n",
    "\n",
    "# Defining the learners for the first layer\n",
    "model_1 = linear_model.LogisticRegression()\n",
    "model_2 = ensemble.RandomForestClassifier(n_jobs=-1)\n",
    "model_3 = neighbors.KNeighborsClassifier(n_jobs=-1)\n",
    "model_4 = ensemble.GradientBoostingClassifier()\n",
    "model_5 = svm.SVC(probability=True)\n",
    "\n",
    "# Putting the models in a list to iterate through in the function\n",
    "models = [model_1, model_2, model_3, model_4, model_5]\n",
    "\n",
    "# Running our function to build a stacking model\n",
    "train_stacking_get_results(models)"
   ]
  },
  {
   "cell_type": "markdown",
   "metadata": {},
   "source": [
    "# Hyperparameter Tuning\n",
    "\n",
    "There two main methodologies for hyperparameter tuning: \n",
    "1. Manually testing hypotheses on how changing certain hyperparameters will impact the performance of the model\n",
    "2. Automatically checking a bunch of different combinations of hyperparameters using either a grid search or a randomized search\n",
    "\n",
    "We will start with the second option by using a randomized search and then see if we have any hypotheses for further improving the model.  **TODO: Take this out if the second doesn't actually happen**\n",
    "\n",
    "Grid search makes more intuitive sense, but research from [James Bergstra and Yoshua Bengio](http://jmlr.csail.mit.edu/papers/volume13/bergstra12a/bergstra12a.pdf) have shown that random search tends to converge to good hyperparameters faster than grid search. Here's a graphic from their paper that gives an intuitive example of how random search can potentially cover more ground when there are hyperparameters that aren't as important:\n",
    "\n",
    "<img src=\"https://cdn-images-1.medium.com/max/923/1*ZTlQm_WRcrNqL-nLnx6GJA.png\">\n",
    "\n",
    "*Source: [James Bergstra & Yoshua Bengio](http://jmlr.csail.mit.edu/papers/volume13/bergstra12a/bergstra12a.pdf)*\n",
    "\n",
    "## Hyperparameters & Decision Tree Structure\n",
    "\n",
    "Because both random forests and gradient boosted trees use decision trees for their underlying structures, their hyperparameters are largely the same. Here's a recap of the decision tree structure and a quick summary of what each of the hyperparameters we'll be tuning are:\n",
    "\n",
    "<img src=\"http://3.bp.blogspot.com/-2OYbpGM5AsA/T9_UacNCyxI/AAAAAAAAADI/KWb2PJamTVU/s400/1.png\">\n",
    "\n",
    "*Source: [Murtuza Morbiwala](http://insightfromdata.blogspot.com/2012/06/decision-tree-unembellished.html)*\n",
    "\n",
    "\n",
    "### Hyperparameters\n",
    "\n",
    "This is list is not all-inclusive, but has most of the common hyperparameters:\n",
    "\n",
    "- **Number of Estimators:** The number of decision trees to be trained\n",
    "    - A higher number typically means better predictions (at the cost of computational power) up until a saturation point where the model begins to overfit\n",
    "- **Max Depth:** How deep a tree can be\n",
    "    - This should ideally be low for gradient boosting and large (or none) for random forests\n",
    "- **Minimum Samples per Split:** The minimum samples considered to split a node\n",
    "    - A higher number typically results in better performance at the cost of computational efficiency\n",
    "- **Minimum Samples per Leaf:** The minimum number of samples required to be a leaf node\n",
    "    - A lower number could potentially result in more noise being captured\n",
    "- **Max Features:** The number of features to consider when looking for the best split\n",
    "    - A lower number typically reduces variance/increases bias and improves computational efficiency\n",
    "- **Max Leaf Nodes:** The maximum number of leaf nodes for the tree\n",
    "    - A smaller number could help prevent overfitting\n",
    "- **Learning Rate (gradient boosting only):** The adjustment/step size for each iteration\n",
    "    - A larger step size can help get better performance in fewer iterations, but will plateau at a lower performance\n",
    "    - A smaller step size will require more iterations (number of estimators) but will ultimately achieve a better performance\n",
    "\n",
    "### General Strategies"
   ]
  },
  {
   "cell_type": "markdown",
   "metadata": {},
   "source": [
    "**TODO: Incorporate these into the above**\n",
    "\n",
    "https://github.com/Microsoft/LightGBM/blob/master/docs/Parameters-Tuning.rst\n",
    "\n",
    "For Faster Speed\n",
    "\n",
    "    Use bagging by setting bagging_fraction and bagging_freq\n",
    "    Use feature sub-sampling by setting feature_fraction\n",
    "    Use small max_bin\n",
    "    Use save_binary to speed up data loading in future learning\n",
    "    Use parallel learning, refer to Parallel Learning Guide\n",
    "\n",
    "For Better Accuracy\n",
    "\n",
    "    Use large max_bin (may be slower)\n",
    "    Use small learning_rate with large num_iterations\n",
    "    Use large num_leaves (may cause over-fitting)\n",
    "    Use bigger training data\n",
    "    Try dart\n",
    "\n",
    "Deal with Over-fitting\n",
    "\n",
    "    Use small max_bin\n",
    "    Use small num_leaves\n",
    "    Use min_data_in_leaf and min_sum_hessian_in_leaf\n",
    "    Use bagging by set bagging_fraction and bagging_freq\n",
    "    Use feature sub-sampling by set feature_fraction\n",
    "    Use bigger training data\n",
    "    Try lambda_l1, lambda_l2 and min_gain_to_split for regularization\n",
    "    Try max_depth to avoid growing deep tree\n"
   ]
  },
  {
   "cell_type": "markdown",
   "metadata": {
    "ExecuteTime": {
     "end_time": "2018-06-30T23:13:57.881984Z",
     "start_time": "2018-06-30T23:13:57.866361Z"
    }
   },
   "source": [
    "## Baseline\n",
    "\n",
    "For our logistic regression model, we're just going to tune the regularization parameter. One of the advantages of simpler models like this is that they are easier to tune because we don't have nearly as many hyperparameters to worry about."
   ]
  },
  {
   "cell_type": "code",
   "execution_count": 99,
   "metadata": {
    "ExecuteTime": {
     "end_time": "2018-07-03T01:14:50.788277Z",
     "start_time": "2018-07-03T01:14:46.616655Z"
    }
   },
   "outputs": [
    {
     "name": "stdout",
     "output_type": "stream",
     "text": [
      "Default Parameters: \n",
      "\n",
      "LogisticRegression(C=1.0, class_weight=None, dual=False, fit_intercept=True,\n",
      "          intercept_scaling=1, max_iter=100, multi_class='ovr', n_jobs=1,\n",
      "          penalty='l2', random_state=None, solver='liblinear', tol=0.0001,\n",
      "          verbose=0, warm_start=False) \n",
      "\n",
      "Beginning hyperparameter tuning\n",
      "Fitting 3 folds for each of 10 candidates, totalling 30 fits\n"
     ]
    },
    {
     "name": "stderr",
     "output_type": "stream",
     "text": [
      "[Parallel(n_jobs=-1)]: Done   1 tasks      | elapsed:    1.3s\n",
      "[Parallel(n_jobs=-1)]: Done   2 tasks      | elapsed:    1.8s\n",
      "[Parallel(n_jobs=-1)]: Done   3 tasks      | elapsed:    2.4s\n",
      "[Parallel(n_jobs=-1)]: Done   4 tasks      | elapsed:    2.9s\n",
      "[Parallel(n_jobs=-1)]: Done   5 tasks      | elapsed:    2.9s\n",
      "[Parallel(n_jobs=-1)]: Done   6 tasks      | elapsed:    2.9s\n",
      "[Parallel(n_jobs=-1)]: Done   7 tasks      | elapsed:    2.9s\n",
      "[Parallel(n_jobs=-1)]: Done   8 tasks      | elapsed:    3.0s\n",
      "[Parallel(n_jobs=-1)]: Done   9 tasks      | elapsed:    3.0s\n",
      "[Parallel(n_jobs=-1)]: Done  10 tasks      | elapsed:    3.0s\n",
      "[Parallel(n_jobs=-1)]: Done  11 tasks      | elapsed:    3.0s\n",
      "[Parallel(n_jobs=-1)]: Done  12 tasks      | elapsed:    3.1s\n",
      "[Parallel(n_jobs=-1)]: Done  13 tasks      | elapsed:    3.1s\n",
      "[Parallel(n_jobs=-1)]: Done  14 tasks      | elapsed:    3.1s\n",
      "[Parallel(n_jobs=-1)]: Done  15 tasks      | elapsed:    3.1s\n",
      "[Parallel(n_jobs=-1)]: Done  16 tasks      | elapsed:    3.2s\n",
      "[Parallel(n_jobs=-1)]: Done  17 tasks      | elapsed:    3.2s\n",
      "[Parallel(n_jobs=-1)]: Done  18 tasks      | elapsed:    3.2s\n",
      "[Parallel(n_jobs=-1)]: Done  19 tasks      | elapsed:    3.2s\n",
      "[Parallel(n_jobs=-1)]: Done  20 tasks      | elapsed:    3.3s\n",
      "[Parallel(n_jobs=-1)]: Done  21 tasks      | elapsed:    3.3s\n",
      "[Parallel(n_jobs=-1)]: Done  22 tasks      | elapsed:    3.3s\n",
      "[Parallel(n_jobs=-1)]: Done  23 tasks      | elapsed:    3.3s\n",
      "[Parallel(n_jobs=-1)]: Done  25 out of  30 | elapsed:    3.3s remaining:    0.6s\n",
      "[Parallel(n_jobs=-1)]: Done  27 out of  30 | elapsed:    3.4s remaining:    0.3s\n",
      "[Parallel(n_jobs=-1)]: Done  30 out of  30 | elapsed:    3.4s finished\n"
     ]
    },
    {
     "name": "stdout",
     "output_type": "stream",
     "text": [
      "Completed\n",
      "Best estimator: \n",
      "\n",
      "LogisticRegression(C=7.8383235080575062, class_weight=None, dual=False,\n",
      "          fit_intercept=True, intercept_scaling=1, max_iter=100,\n",
      "          multi_class='ovr', n_jobs=1, penalty='l2', random_state=None,\n",
      "          solver='liblinear', tol=0.0001, verbose=0, warm_start=False)\n",
      "\n",
      " Tuned results:\n"
     ]
    },
    {
     "name": "stderr",
     "output_type": "stream",
     "text": [
      "C:\\Anaconda3\\lib\\site-packages\\statsmodels\\nonparametric\\kde.py:488: RuntimeWarning: invalid value encountered in true_divide\n",
      "  binned = fast_linbin(X, a, b, gridsize) / (delta * nobs)\n",
      "C:\\Anaconda3\\lib\\site-packages\\statsmodels\\nonparametric\\kdetools.py:34: RuntimeWarning: invalid value encountered in double_scalars\n",
      "  FAC1 = 2*(np.pi*bw/RANGE)**2\n"
     ]
    },
    {
     "data": {
      "text/html": [
       "<div>\n",
       "<style scoped>\n",
       "    .dataframe tbody tr th:only-of-type {\n",
       "        vertical-align: middle;\n",
       "    }\n",
       "\n",
       "    .dataframe tbody tr th {\n",
       "        vertical-align: top;\n",
       "    }\n",
       "\n",
       "    .dataframe thead th {\n",
       "        text-align: right;\n",
       "    }\n",
       "</style>\n",
       "<table border=\"1\" class=\"dataframe\">\n",
       "  <thead>\n",
       "    <tr style=\"text-align: right;\">\n",
       "      <th></th>\n",
       "      <th>Accuracy</th>\n",
       "      <th>LogLoss</th>\n",
       "      <th>AUC</th>\n",
       "      <th>TrainingTime</th>\n",
       "    </tr>\n",
       "  </thead>\n",
       "  <tbody>\n",
       "    <tr>\n",
       "      <th>Logistic Regression</th>\n",
       "      <td>0.899</td>\n",
       "      <td>0.245206</td>\n",
       "      <td>0.962941</td>\n",
       "      <td>3.827896</td>\n",
       "    </tr>\n",
       "  </tbody>\n",
       "</table>\n",
       "</div>"
      ],
      "text/plain": [
       "                     Accuracy   LogLoss       AUC  TrainingTime\n",
       "Logistic Regression     0.899  0.245206  0.962941      3.827896"
      ]
     },
     "execution_count": 99,
     "metadata": {},
     "output_type": "execute_result"
    },
    {
     "data": {
      "image/png": "[encoded data removed]",
      "text/plain": [
       "<matplotlib.figure.Figure at 0x20d514b3f60>"
      ]
     },
     "metadata": {},
     "output_type": "display_data"
    }
   ],
   "source": [
    "def random_search_get_results(model, parameters, model_name, num_rounds=10):\n",
    "    '''\n",
    "    TODO: Fill docstring\n",
    "    '''\n",
    "    \n",
    "    print('Default Parameters:', '\\n')\n",
    "    print(model, '\\n')\n",
    "    \n",
    "    random_search = RandomizedSearchCV(model,\n",
    "                                       param_distributions=parameters,\n",
    "                                       n_iter=num_rounds, n_jobs=-1,\n",
    "                                       return_train_score=True, random_state=46,\n",
    "                                       verbose=20)  # Prints status of each completed fit\n",
    "    \n",
    "    print('Beginning hyperparameter tuning')\n",
    "    start_time = time.time()\n",
    "    random_search.fit(X_train, y_train)\n",
    "    end_time = time.time()\n",
    "    total_training_time = end_time - start_time\n",
    "    print('Completed')\n",
    "    \n",
    "    # Calculating the testing set accuracy on the best estimator with the score method\n",
    "    accuracy = random_search.best_estimator_.score(X_test, y_test)\n",
    "    \n",
    "    # Calcuating the log loss with predicted probabilities\n",
    "    class_probabilities = random_search.best_estimator_.predict_proba(X_test)\n",
    "    log_loss = metrics.log_loss(y_test, class_probabilities)\n",
    "    auc = metrics.roc_auc_score(y_test, class_probabilities[:, 1])\n",
    "    \n",
    "    # Adding the model results to the results dataframe\n",
    "    model_results = [accuracy, log_loss, auc, total_training_time]\n",
    "    tuned_results.loc[model_name] = model_results\n",
    "    \n",
    "    # Plotting the mean training accuracy from the different iterations\n",
    "    sns.distplot(random_search.cv_results_['mean_test_score'])\n",
    "    plt.title('Mean test score')\n",
    "    \n",
    "    print('Best estimator:', '\\n')\n",
    "    print(random_search.best_estimator_)\n",
    "    \n",
    "    print('\\n', 'Tuned results:')\n",
    "    return tuned_results\n",
    "\n",
    "\n",
    "parameters = {'C': scipy.stats.uniform(0, 10)}  # Uniform distribution between 0 and 10\n",
    "\n",
    "random_search_get_results(logistic_regression, parameters, 'Logistic Regression')"
   ]
  },
  {
   "cell_type": "markdown",
   "metadata": {},
   "source": [
    "## Random Forests\n",
    "\n",
    "**TODO: Explain random forest tuning strategies**\n",
    "\n",
    "Use [this](https://www.analyticsvidhya.com/blog/2015/06/tuning-random-forest-model/) as reference"
   ]
  },
  {
   "cell_type": "code",
   "execution_count": 102,
   "metadata": {
    "ExecuteTime": {
     "end_time": "2018-07-03T01:20:28.377227Z",
     "start_time": "2018-07-03T01:19:16.756688Z"
    },
    "scrolled": false
   },
   "outputs": [
    {
     "name": "stdout",
     "output_type": "stream",
     "text": [
      "Default Parameters: \n",
      "\n",
      "RandomForestClassifier(bootstrap=True, class_weight=None, criterion='gini',\n",
      "            max_depth=None, max_features='auto', max_leaf_nodes=None,\n",
      "            min_impurity_decrease=0.0, min_impurity_split=None,\n",
      "            min_samples_leaf=1, min_samples_split=2,\n",
      "            min_weight_fraction_leaf=0.0, n_estimators=10, n_jobs=-1,\n",
      "            oob_score=False, random_state=None, verbose=0,\n",
      "            warm_start=False) \n",
      "\n",
      "Beginning hyperparameter tuning\n",
      "Fitting 3 folds for each of 10 candidates, totalling 30 fits\n"
     ]
    },
    {
     "name": "stderr",
     "output_type": "stream",
     "text": [
      "[Parallel(n_jobs=-1)]: Done   1 tasks      | elapsed:   12.7s\n",
      "[Parallel(n_jobs=-1)]: Done   2 tasks      | elapsed:   15.2s\n",
      "[Parallel(n_jobs=-1)]: Done   3 tasks      | elapsed:   15.7s\n",
      "[Parallel(n_jobs=-1)]: Done   4 tasks      | elapsed:   16.2s\n",
      "[Parallel(n_jobs=-1)]: Done   5 tasks      | elapsed:   19.4s\n",
      "[Parallel(n_jobs=-1)]: Done   6 tasks      | elapsed:   20.0s\n",
      "[Parallel(n_jobs=-1)]: Done   7 tasks      | elapsed:   24.5s\n",
      "[Parallel(n_jobs=-1)]: Done   8 tasks      | elapsed:   25.0s\n",
      "[Parallel(n_jobs=-1)]: Done   9 tasks      | elapsed:   25.2s\n",
      "[Parallel(n_jobs=-1)]: Done  10 tasks      | elapsed:   27.1s\n",
      "[Parallel(n_jobs=-1)]: Done  11 tasks      | elapsed:   28.7s\n",
      "[Parallel(n_jobs=-1)]: Done  12 tasks      | elapsed:   29.0s\n",
      "[Parallel(n_jobs=-1)]: Done  13 tasks      | elapsed:   30.1s\n",
      "[Parallel(n_jobs=-1)]: Done  14 tasks      | elapsed:   31.5s\n",
      "[Parallel(n_jobs=-1)]: Done  15 tasks      | elapsed:   34.0s\n",
      "[Parallel(n_jobs=-1)]: Done  16 tasks      | elapsed:   45.7s\n",
      "[Parallel(n_jobs=-1)]: Done  17 tasks      | elapsed:   47.1s\n",
      "[Parallel(n_jobs=-1)]: Done  18 tasks      | elapsed:   47.5s\n",
      "[Parallel(n_jobs=-1)]: Done  19 tasks      | elapsed:   49.6s\n",
      "[Parallel(n_jobs=-1)]: Done  20 tasks      | elapsed:   55.2s\n",
      "[Parallel(n_jobs=-1)]: Done  21 tasks      | elapsed:   55.7s\n",
      "[Parallel(n_jobs=-1)]: Done  22 tasks      | elapsed:   56.4s\n",
      "[Parallel(n_jobs=-1)]: Done  23 tasks      | elapsed:   59.6s\n",
      "[Parallel(n_jobs=-1)]: Done  25 out of  30 | elapsed:  1.0min remaining:   12.0s\n",
      "[Parallel(n_jobs=-1)]: Done  27 out of  30 | elapsed:  1.1min remaining:    6.9s\n",
      "[Parallel(n_jobs=-1)]: Done  30 out of  30 | elapsed:  1.1min finished\n"
     ]
    },
    {
     "name": "stdout",
     "output_type": "stream",
     "text": [
      "Completed\n",
      "Best estimator: \n",
      "\n",
      "RandomForestClassifier(bootstrap=True, class_weight=None, criterion='gini',\n",
      "            max_depth=None, max_features='auto', max_leaf_nodes=None,\n",
      "            min_impurity_decrease=0.0, min_impurity_split=None,\n",
      "            min_samples_leaf=4, min_samples_split=2,\n",
      "            min_weight_fraction_leaf=0.0, n_estimators=178, n_jobs=-1,\n",
      "            oob_score=False, random_state=None, verbose=0,\n",
      "            warm_start=False)\n",
      "\n",
      " Tuned results:\n"
     ]
    },
    {
     "data": {
      "text/html": [
       "<div>\n",
       "<style scoped>\n",
       "    .dataframe tbody tr th:only-of-type {\n",
       "        vertical-align: middle;\n",
       "    }\n",
       "\n",
       "    .dataframe tbody tr th {\n",
       "        vertical-align: top;\n",
       "    }\n",
       "\n",
       "    .dataframe thead th {\n",
       "        text-align: right;\n",
       "    }\n",
       "</style>\n",
       "<table border=\"1\" class=\"dataframe\">\n",
       "  <thead>\n",
       "    <tr style=\"text-align: right;\">\n",
       "      <th></th>\n",
       "      <th>Accuracy</th>\n",
       "      <th>LogLoss</th>\n",
       "      <th>AUC</th>\n",
       "      <th>TrainingTime</th>\n",
       "    </tr>\n",
       "  </thead>\n",
       "  <tbody>\n",
       "    <tr>\n",
       "      <th>Logistic Regression</th>\n",
       "      <td>0.899000</td>\n",
       "      <td>0.245206</td>\n",
       "      <td>0.962941</td>\n",
       "      <td>3.827896</td>\n",
       "    </tr>\n",
       "    <tr>\n",
       "      <th>Random Forest</th>\n",
       "      <td>0.974667</td>\n",
       "      <td>0.108637</td>\n",
       "      <td>0.991525</td>\n",
       "      <td>70.776949</td>\n",
       "    </tr>\n",
       "  </tbody>\n",
       "</table>\n",
       "</div>"
      ],
      "text/plain": [
       "                     Accuracy   LogLoss       AUC  TrainingTime\n",
       "Logistic Regression  0.899000  0.245206  0.962941      3.827896\n",
       "Random Forest        0.974667  0.108637  0.991525     70.776949"
      ]
     },
     "execution_count": 102,
     "metadata": {},
     "output_type": "execute_result"
    },
    {
     "data": {
      "image/png": "[encoded data removed]",
      "text/plain": [
       "<matplotlib.figure.Figure at 0x20d5152d588>"
      ]
     },
     "metadata": {},
     "output_type": "display_data"
    }
   ],
   "source": [
    "parameters = {'n_estimators': scipy.stats.randint(low=10, high=500),  # Uniform distribution between 10 and 750\n",
    "              'max_features': ['auto', 'sqrt'],  # Number of features to consider at each split\n",
    "              'max_depth': [None, 10, 30, 100],  # Maximum number of levels in a tree\n",
    "              'min_samples_split': [2, 5, 10],  # Minimum number of samples required to split a node\n",
    "              'min_samples_leaf': [1, 2, 4]}  # Minimum number of samples required at each leaf node\n",
    "             \n",
    "             \n",
    "\n",
    "random_search_get_results(random_forest, parameters, 'Random Forest')"
   ]
  },
  {
   "cell_type": "markdown",
   "metadata": {},
   "source": [
    "**TODO: Show more directed hyperparameter tuning given current data**"
   ]
  },
  {
   "cell_type": "code",
   "execution_count": 121,
   "metadata": {
    "ExecuteTime": {
     "end_time": "2018-07-03T01:31:46.601846Z",
     "start_time": "2018-07-03T01:27:42.335441Z"
    }
   },
   "outputs": [
    {
     "name": "stdout",
     "output_type": "stream",
     "text": [
      "[100, 316, 1000, 3162, 10000]\n",
      "Fitting with 100 trees\n",
      "Fitting with 316 trees\n",
      "Fitting with 1000 trees\n",
      "Fitting with 3162 trees\n",
      "Fitting with 10000 trees\n"
     ]
    }
   ],
   "source": [
    "trees_to_try = np.logspace(start=2, stop=4, num=5)\n",
    "trees_to_try = [int(x) for x in trees_to_try]\n",
    "print(trees_to_try)\n",
    "\n",
    "train_accuracy = []\n",
    "test_accuracy = []\n",
    "\n",
    "for trees in trees_to_try:\n",
    "    print('Fitting with {0} trees'.format(trees))\n",
    "    random_forest = ensemble.RandomForestClassifier(n_estimators=trees, n_jobs=-1)\n",
    "    random_forest.fit(X_train, y_train)\n",
    "    \n",
    "    train_accuracy.append(random_forest.score(X_train, y_train))\n",
    "    test_accuracy.append(random_forest.score(X_test, y_test))"
   ]
  },
  {
   "cell_type": "code",
   "execution_count": 126,
   "metadata": {
    "ExecuteTime": {
     "end_time": "2018-07-03T01:33:38.252640Z",
     "start_time": "2018-07-03T01:33:37.955786Z"
    }
   },
   "outputs": [
    {
     "data": {
      "text/plain": [
       "[<matplotlib.lines.Line2D at 0x20d670b66d8>]"
      ]
     },
     "execution_count": 126,
     "metadata": {},
     "output_type": "execute_result"
    },
    {
     "data": {
      "image/png": "[encoded data removed]",
      "text/plain": [
       "<matplotlib.figure.Figure at 0x20d670b6e80>"
      ]
     },
     "metadata": {},
     "output_type": "display_data"
    }
   ],
   "source": [
    "plt.plot(trees_to_try, test_accuracy)\n",
    "plt.plot(trees_to_try, train_accuracy)"
   ]
  },
  {
   "cell_type": "markdown",
   "metadata": {},
   "source": [
    "## Gradient Boosted Trees\n",
    "\n",
    "**TODO: Explain GBT tuning strategies & how different components affect the model**"
   ]
  },
  {
   "cell_type": "code",
   "execution_count": null,
   "metadata": {},
   "outputs": [],
   "source": []
  },
  {
   "cell_type": "markdown",
   "metadata": {},
   "source": [
    "**TODO: Show more directed hyperparameter tuning given current data**"
   ]
  },
  {
   "cell_type": "code",
   "execution_count": null,
   "metadata": {},
   "outputs": [],
   "source": []
  },
  {
   "cell_type": "markdown",
   "metadata": {},
   "source": [
    "## Stacking\n",
    "\n",
    "**TODO: Talk about how it's more ambiguous due to being a collection of several models**"
   ]
  },
  {
   "cell_type": "code",
   "execution_count": null,
   "metadata": {},
   "outputs": [],
   "source": []
  },
  {
   "cell_type": "markdown",
   "metadata": {},
   "source": [
    "# Additional Frameworks\n",
    "\n",
    "**TODO: Talk about additional frameworks, their strengths/weaknesses/etc.**"
   ]
  },
  {
   "cell_type": "markdown",
   "metadata": {},
   "source": [
    "### XGBoost\n",
    "\n",
    "**TODO: Explain XGBoost, what it is, how it works, and why it's good**\n",
    "\n",
    "#### Installation\n",
    "**TODO: Explain how to install xgboost**"
   ]
  },
  {
   "cell_type": "code",
   "execution_count": null,
   "metadata": {},
   "outputs": [],
   "source": []
  },
  {
   "cell_type": "markdown",
   "metadata": {},
   "source": [
    "#### Hyperparameter Tuning"
   ]
  },
  {
   "cell_type": "code",
   "execution_count": null,
   "metadata": {},
   "outputs": [],
   "source": []
  },
  {
   "cell_type": "markdown",
   "metadata": {},
   "source": [
    "### LightGBM\n",
    "\n",
    "**TODO: Explain LightGBM, what it is, how it differs from XGBoost, and why it's good**\n",
    "\n",
    "<img src=\"https://raw.githubusercontent.com/Microsoft/LightGBM/master/docs/_static/images/leaf-wise.png\">\n",
    "\n",
    "*Source: [LightGBM's GitHub](https://github.com/Microsoft/LightGBM/blob/master/docs/Features.rst)*\n",
    "\n",
    "#### Installation\n",
    "\n",
    "[The documentation on GitHub](https://github.com/Microsoft/LightGBM/tree/master/python-package#installation) has installation instructions for LightGBM. It can be installed from PyPI with `pip install lightgbm`, but requires a few things to work - check out the documentation depending on your OS."
   ]
  },
  {
   "cell_type": "code",
   "execution_count": 47,
   "metadata": {
    "ExecuteTime": {
     "end_time": "2018-07-01T19:29:45.045799Z",
     "start_time": "2018-07-01T19:29:44.889560Z"
    }
   },
   "outputs": [
    {
     "name": "stdout",
     "output_type": "stream",
     "text": [
      "Training the model\n",
      "Completed\n",
      "\n",
      " Non-tuned results:\n"
     ]
    },
    {
     "data": {
      "text/html": [
       "<div>\n",
       "<style scoped>\n",
       "    .dataframe tbody tr th:only-of-type {\n",
       "        vertical-align: middle;\n",
       "    }\n",
       "\n",
       "    .dataframe tbody tr th {\n",
       "        vertical-align: top;\n",
       "    }\n",
       "\n",
       "    .dataframe thead th {\n",
       "        text-align: right;\n",
       "    }\n",
       "</style>\n",
       "<table border=\"1\" class=\"dataframe\">\n",
       "  <thead>\n",
       "    <tr style=\"text-align: right;\">\n",
       "      <th></th>\n",
       "      <th>Accuracy</th>\n",
       "      <th>LogLoss</th>\n",
       "      <th>TrainingTime</th>\n",
       "    </tr>\n",
       "  </thead>\n",
       "  <tbody>\n",
       "    <tr>\n",
       "      <th>Logistic Regression</th>\n",
       "      <td>0.906667</td>\n",
       "      <td>0.237251</td>\n",
       "      <td>0.046874</td>\n",
       "    </tr>\n",
       "    <tr>\n",
       "      <th>Random Forest</th>\n",
       "      <td>0.973667</td>\n",
       "      <td>0.263248</td>\n",
       "      <td>0.265526</td>\n",
       "    </tr>\n",
       "    <tr>\n",
       "      <th>AdaBoost</th>\n",
       "      <td>0.965000</td>\n",
       "      <td>0.644167</td>\n",
       "      <td>1.546803</td>\n",
       "    </tr>\n",
       "    <tr>\n",
       "      <th>Gradient Boosted Trees</th>\n",
       "      <td>0.974000</td>\n",
       "      <td>0.092661</td>\n",
       "      <td>2.218480</td>\n",
       "    </tr>\n",
       "    <tr>\n",
       "      <th>LightGBM</th>\n",
       "      <td>0.975333</td>\n",
       "      <td>0.246272</td>\n",
       "      <td>0.109368</td>\n",
       "    </tr>\n",
       "  </tbody>\n",
       "</table>\n",
       "</div>"
      ],
      "text/plain": [
       "                        Accuracy   LogLoss  TrainingTime\n",
       "Logistic Regression     0.906667  0.237251      0.046874\n",
       "Random Forest           0.973667  0.263248      0.265526\n",
       "AdaBoost                0.965000  0.644167      1.546803\n",
       "Gradient Boosted Trees  0.974000  0.092661      2.218480\n",
       "LightGBM                0.975333  0.246272      0.109368"
      ]
     },
     "execution_count": 47,
     "metadata": {},
     "output_type": "execute_result"
    }
   ],
   "source": [
    "import lightgbm as lgb\n",
    "\n",
    "lightGBM = lgb.LGBMClassifier(nthread=-1)  # nthread=-1 uses all available cores\n",
    "\n",
    "# Due to the scikit-learn API option, LightGBM works with our function!\n",
    "train_model_get_results(lightGBM, 'LightGBM')"
   ]
  },
  {
   "cell_type": "markdown",
   "metadata": {},
   "source": [
    "#### Hyperparameter Tuning"
   ]
  },
  {
   "cell_type": "code",
   "execution_count": 60,
   "metadata": {
    "ExecuteTime": {
     "end_time": "2018-07-01T19:45:17.957171Z",
     "start_time": "2018-07-01T19:44:52.494561Z"
    }
   },
   "outputs": [
    {
     "name": "stdout",
     "output_type": "stream",
     "text": [
      "Default Parameters: \n",
      "\n",
      "LGBMClassifier(boosting_type='gbdt', colsample_bytree=1, learning_rate=0.1,\n",
      "        max_bin=255, max_depth=-1, min_child_samples=10,\n",
      "        min_child_weight=5, min_split_gain=0, n_estimators=10, nthread=-1,\n",
      "        num_leaves=31, objective='binary', reg_alpha=0, reg_lambda=0,\n",
      "        seed=0, silent=True, subsample=1, subsample_for_bin=50000,\n",
      "        subsample_freq=1) \n",
      "\n",
      "Beginning hyperparameter tuning\n",
      "Fitting 3 folds for each of 10 candidates, totalling 30 fits\n"
     ]
    },
    {
     "name": "stderr",
     "output_type": "stream",
     "text": [
      "[Parallel(n_jobs=-1)]: Done   1 tasks      | elapsed:    2.1s\n",
      "[Parallel(n_jobs=-1)]: Done   2 tasks      | elapsed:    3.3s\n",
      "[Parallel(n_jobs=-1)]: Done   3 tasks      | elapsed:    4.5s\n",
      "[Parallel(n_jobs=-1)]: Done   4 tasks      | elapsed:    6.6s\n",
      "[Parallel(n_jobs=-1)]: Done   5 tasks      | elapsed:    7.7s\n",
      "[Parallel(n_jobs=-1)]: Done   6 tasks      | elapsed:    8.0s\n",
      "[Parallel(n_jobs=-1)]: Done   7 tasks      | elapsed:    8.1s\n",
      "[Parallel(n_jobs=-1)]: Done   8 tasks      | elapsed:    8.5s\n",
      "[Parallel(n_jobs=-1)]: Done   9 tasks      | elapsed:    9.4s\n",
      "[Parallel(n_jobs=-1)]: Done  10 tasks      | elapsed:   10.0s\n",
      "[Parallel(n_jobs=-1)]: Done  11 tasks      | elapsed:   10.2s\n",
      "[Parallel(n_jobs=-1)]: Done  12 tasks      | elapsed:   10.5s\n",
      "[Parallel(n_jobs=-1)]: Done  13 tasks      | elapsed:   11.2s\n",
      "[Parallel(n_jobs=-1)]: Done  14 tasks      | elapsed:   11.7s\n",
      "[Parallel(n_jobs=-1)]: Done  15 tasks      | elapsed:   11.8s\n",
      "[Parallel(n_jobs=-1)]: Done  16 tasks      | elapsed:   12.0s\n",
      "[Parallel(n_jobs=-1)]: Done  17 tasks      | elapsed:   12.8s\n",
      "[Parallel(n_jobs=-1)]: Done  18 tasks      | elapsed:   12.9s\n",
      "[Parallel(n_jobs=-1)]: Done  19 tasks      | elapsed:   13.1s\n",
      "[Parallel(n_jobs=-1)]: Done  20 tasks      | elapsed:   13.3s\n",
      "[Parallel(n_jobs=-1)]: Done  21 tasks      | elapsed:   13.9s\n",
      "[Parallel(n_jobs=-1)]: Done  22 tasks      | elapsed:   15.6s\n",
      "[Parallel(n_jobs=-1)]: Done  23 tasks      | elapsed:   17.5s\n",
      "[Parallel(n_jobs=-1)]: Done  25 out of  30 | elapsed:   21.7s remaining:    4.3s\n",
      "[Parallel(n_jobs=-1)]: Done  27 out of  30 | elapsed:   22.2s remaining:    2.4s\n",
      "[Parallel(n_jobs=-1)]: Done  30 out of  30 | elapsed:   23.7s finished\n"
     ]
    },
    {
     "name": "stdout",
     "output_type": "stream",
     "text": [
      "Completed\n",
      "Best estimator: \n",
      "\n",
      "LGBMClassifier(boosting_type='gbdt', colsample_bytree=1, learning_rate=0.1,\n",
      "        max_bin=255, max_depth=-1, min_child_samples=10,\n",
      "        min_child_weight=5, min_split_gain=0, n_estimators=413, nthread=-1,\n",
      "        num_leaves=31, objective='binary', reg_alpha=0, reg_lambda=0,\n",
      "        seed=0, silent=True, subsample=1, subsample_for_bin=50000,\n",
      "        subsample_freq=1)\n",
      "\n",
      " Tuned results:\n"
     ]
    },
    {
     "data": {
      "text/html": [
       "<div>\n",
       "<style scoped>\n",
       "    .dataframe tbody tr th:only-of-type {\n",
       "        vertical-align: middle;\n",
       "    }\n",
       "\n",
       "    .dataframe tbody tr th {\n",
       "        vertical-align: top;\n",
       "    }\n",
       "\n",
       "    .dataframe thead th {\n",
       "        text-align: right;\n",
       "    }\n",
       "</style>\n",
       "<table border=\"1\" class=\"dataframe\">\n",
       "  <thead>\n",
       "    <tr style=\"text-align: right;\">\n",
       "      <th></th>\n",
       "      <th>Accuracy</th>\n",
       "      <th>LogLoss</th>\n",
       "      <th>TrainingTime</th>\n",
       "    </tr>\n",
       "  </thead>\n",
       "  <tbody>\n",
       "    <tr>\n",
       "      <th>Logistic Regression</th>\n",
       "      <td>0.906667</td>\n",
       "      <td>0.237161</td>\n",
       "      <td>3.609153</td>\n",
       "    </tr>\n",
       "    <tr>\n",
       "      <th>Random Forest</th>\n",
       "      <td>0.975667</td>\n",
       "      <td>0.097956</td>\n",
       "      <td>65.723121</td>\n",
       "    </tr>\n",
       "    <tr>\n",
       "      <th>LightGBM</th>\n",
       "      <td>0.972667</td>\n",
       "      <td>0.101834</td>\n",
       "      <td>24.951612</td>\n",
       "    </tr>\n",
       "  </tbody>\n",
       "</table>\n",
       "</div>"
      ],
      "text/plain": [
       "                     Accuracy   LogLoss  TrainingTime\n",
       "Logistic Regression  0.906667  0.237161      3.609153\n",
       "Random Forest        0.975667  0.097956     65.723121\n",
       "LightGBM             0.972667  0.101834     24.951612"
      ]
     },
     "execution_count": 60,
     "metadata": {},
     "output_type": "execute_result"
    },
    {
     "data": {
      "image/png": "[encoded data removed]",
      "text/plain": [
       "<matplotlib.figure.Figure at 0x20d4be10780>"
      ]
     },
     "metadata": {},
     "output_type": "display_data"
    }
   ],
   "source": [
    "# parameters = {'n_estimators': scipy.stats.randint(low=10, high=500),  # Uniform distribution between 10 and 750\n",
    "#               'max_features': ['auto', 'sqrt'],  # Number of features to consider at each split\n",
    "#               'max_depth': [None, 10, 30, 100],  # Maximum number of levels in a tree\n",
    "#               'min_samples_split': [2, 5, 10],  # Minimum number of samples required to split a node\n",
    "#               'min_samples_leaf': [1, 2, 4],  # Minimum number of samples required at each leaf node\n",
    "# #               'boostrap': [True, False]\n",
    "#              }  # If the samples should be bootstrapped or not\n",
    "             \n",
    "parameters = {'boosting_type': ['gbdt', 'dart'],\n",
    "              'n_estimators': scipy.stats.randint(low=10, high=500),  # Uniform distribution between 10 and 750\n",
    "              'learning_rate': [0.01, 0.03, 0.1, 0.3],\n",
    "#               'num_leaves': 31,\n",
    "#               'max_depth': 1,\n",
    "#               'max_bin': 255,\n",
    "#               'reg_alpha': 0,  # L1 regularization\n",
    "#               'reg_lambda': 0  # L2 regularization\n",
    "             }    \n",
    "\n",
    "random_search_get_results(lightGBM, parameters, 'LightGBM')"
   ]
  },
  {
   "cell_type": "markdown",
   "metadata": {},
   "source": [
    "### h2o\n",
    "\n",
    "**TODO: Explain h2o, why it's good, how it works, etc.**\n",
    "\n",
    "**TODO: Installing h2o**"
   ]
  },
  {
   "cell_type": "code",
   "execution_count": null,
   "metadata": {},
   "outputs": [],
   "source": []
  },
  {
   "cell_type": "markdown",
   "metadata": {
    "ExecuteTime": {
     "end_time": "2018-06-30T22:49:10.004671Z",
     "start_time": "2018-06-30T22:49:09.989043Z"
    }
   },
   "source": [
    "#### Hyperparameter Tuning"
   ]
  },
  {
   "cell_type": "code",
   "execution_count": null,
   "metadata": {},
   "outputs": [],
   "source": []
  }
 ],
 "metadata": {
  "kernelspec": {
   "display_name": "Python [default]",
   "language": "python",
   "name": "python3"
  },
  "language_info": {
   "codemirror_mode": {
    "name": "ipython",
    "version": 3
   },
   "file_extension": ".py",
   "mimetype": "text/x-python",
   "name": "python",
   "nbconvert_exporter": "python",
   "pygments_lexer": "ipython3",
   "version": "3.5.5"
  },
  "varInspector": {
   "cols": {
    "lenName": 16,
    "lenType": 16,
    "lenVar": 40
   },
   "kernels_config": {
    "python": {
     "delete_cmd_postfix": "",
     "delete_cmd_prefix": "del ",
     "library": "var_list.py",
     "varRefreshCmd": "print(var_dic_list())"
    },
    "r": {
     "delete_cmd_postfix": ") ",
     "delete_cmd_prefix": "rm(",
     "library": "var_list.r",
     "varRefreshCmd": "cat(var_dic_list()) "
    }
   },
   "types_to_exclude": [
    "module",
    "function",
    "builtin_function_or_method",
    "instance",
    "_Feature"
   ],
   "window_display": false
  }
 },
 "nbformat": 4,
 "nbformat_minor": 2
}
