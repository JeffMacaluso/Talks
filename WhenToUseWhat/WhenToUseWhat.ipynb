{
 "cells": [
  {
   "cell_type": "markdown",
   "metadata": {},
   "source": [
    "# Note: Currently under construction\n",
    "\n",
    "TODO:\n",
    "- Reorder sections\n",
    "- Update formatting\n",
    "\n",
    "# Introduction\n",
    "\n",
    "\n",
    "Talk about why it's important to know when to apply what"
   ]
  },
  {
   "cell_type": "markdown",
   "metadata": {},
   "source": [
    "# Problems (rename this)"
   ]
  },
  {
   "cell_type": "code",
   "execution_count": 1,
   "metadata": {
    "ExecuteTime": {
     "end_time": "2019-02-24T02:28:36.977779Z",
     "start_time": "2019-02-24T02:28:35.662779Z"
    }
   },
   "outputs": [
    {
     "name": "stdout",
     "output_type": "stream",
     "text": [
      "2019/02/23 18:28\n",
      "OS: win32\n",
      "CPU Cores: 8\n",
      "Python: 3.6.6 |Anaconda custom (64-bit)| (default, Jun 28 2018, 11:27:44) [MSC v.1900 64 bit (AMD64)]\n",
      "NumPy: 1.14.5\n",
      "Pandas: 0.23.3\n",
      "Scikit-Learn: 0.20.0\n"
     ]
    }
   ],
   "source": [
    "# TODO: Remove imports that aren't used\n",
    "import sys\n",
    "import os\n",
    "import time\n",
    "import numpy as np\n",
    "import pandas as pd\n",
    "import scipy\n",
    "import sklearn\n",
    "from sklearn import datasets\n",
    "import matplotlib.pyplot as plt\n",
    "\n",
    "print(time.strftime('%Y/%m/%d %H:%M'))\n",
    "print('OS:', sys.platform)\n",
    "print('CPU Cores:', os.cpu_count())\n",
    "print('Python:', sys.version)\n",
    "print('NumPy:', np.__version__)\n",
    "print('Pandas:', pd.__version__)\n",
    "print('Scikit-Learn:', sklearn.__version__)\n",
    "\n",
    "# Displays all dataframe columns\n",
    "pd.set_option('display.max_columns', None)\n",
    "\n",
    "%matplotlib inline"
   ]
  },
  {
   "cell_type": "code",
   "execution_count": null,
   "metadata": {},
   "outputs": [],
   "source": []
  },
  {
   "cell_type": "markdown",
   "metadata": {},
   "source": [
    "## Statistical Inference: Proportions\n",
    "\n",
    "## Problem \\#1\n",
    "\n",
    "You work at a software company analyzing data for a team that makes a really cool application. The developers have been hard at work for the last month building features, fixing bugs, and adding functionality for your app. In order to ensure that there are not major issues with the new version, your team rolls out the new version in waves across an increasingly larger percentage of users and monitor the performance in order to make sure it works well. Your team starts with rolling out the new version to 10%, then 25%, 50%, and finally 100%.\n",
    "\n",
    "Your team is in the process of rolling out a new version (1204) to production and has it currently rolled out at 10%. One of the lead developers frantically comes to your office one morning and pulls up a dashboard showing that the reliability number for the new version is only at 93%! This is appears to be a sizable drop from the previous version which is at 97% reliability. That's a 4% drop!\n",
    "\n",
    "Is this something to be worried about? What do you do?\n",
    "\n",
    "[Answer](https://en.wikipedia.org/wiki/Chi-squared_test)"
   ]
  },
  {
   "cell_type": "code",
   "execution_count": 2,
   "metadata": {
    "ExecuteTime": {
     "end_time": "2019-02-24T02:28:36.988780Z",
     "start_time": "2019-02-24T02:28:36.979780Z"
    }
   },
   "outputs": [
    {
     "name": "stdout",
     "output_type": "stream",
     "text": [
      "Chi-square p-value: 0.1882819464095165\n",
      "No, there is not a statistically significant difference\n"
     ]
    }
   ],
   "source": [
    "# The observed reliability in the two versions\n",
    "version_1203_reliability = 0.97\n",
    "version_1204_reliability = 0.93\n",
    "\n",
    "# The total number of users along with the percentage of users the newer version was rolled out to\n",
    "total_num_users = 23000\n",
    "version_1204_rollout_percentage = 0.10\n",
    "\n",
    "# Calculating the number of users that are using each version\n",
    "version_1204_rollout_number = total_num_users * version_1204_rollout_percentage\n",
    "version_1203_rollout_number = total_num_users - version_1204_rollout_number\n",
    "\n",
    "# Calculating the number of users in each group that are not experiencing failures\n",
    "version_1203_successful_users = version_1203_rollout_number * version_1203_reliability\n",
    "version_1204_successful_users = version_1204_rollout_number * version_1204_reliability\n",
    "\n",
    "# Making arrays of [total users, successful users] for the chi square test\n",
    "version_1203_chisquare_array = [version_1203_rollout_number, version_1203_successful_users]\n",
    "version_1204_chisquare_array = [version_1204_rollout_number, version_1204_successful_users]\n",
    "\n",
    "# Performing the chi-square proportions test\n",
    "# Remember to use ?scipy.stats.chi2_contingency() if you want to see the documentation for the arguments or the objects returned\n",
    "chisq_test_results = scipy.stats.chi2_contingency([version_1203_chisquare_array, version_1204_chisquare_array])\n",
    "\n",
    "# Extracting the p-value from the test\n",
    "p_value = chisq_test_results[1]\n",
    "\n",
    "# Reporting the p-value\n",
    "print('Chi-square p-value:', p_value)\n",
    "\n",
    "# Setting the cutoff for statistical significance. This value should be determined by business justification.\n",
    "cutoff_for_statistical_significance = 0.05\n",
    "if p_value <= cutoff_for_statistical_significance:\n",
    "    print('Yes, there is a statistically significant difference')\n",
    "else:\n",
    "    print('No, there is not a statistically significant difference')"
   ]
  },
  {
   "cell_type": "markdown",
   "metadata": {},
   "source": [
    "**What we did**\n",
    "\n",
    "We used a statistical inference technique called a chi-square test. This is the same test that is used in R's `prop.test()` function. It tells us if there is a statistically significant difference in the proportions between the groups that we are observing by providing it with the number of trials and the number of successes per group. In this case, the number of users are the number of trials and the number of successes is the number of users that have not encountered any errors/crashes/hangs.\n",
    "\n",
    "\n",
    "**Potential pitfalls**\n",
    "\n",
    "- Not making sure the [assumptions for the test](https://www.ncbi.nlm.nih.gov/pmc/articles/PMC3900058/) are satisfied. There are a few cases where this scenario may violate these assumptions:\n",
    "    - Example 1: If sessions are used instead of users, users that are caught in a bad state and are reporting several failures will drag the reliability down and cause us to conclude that there is significant difference when there really isn't one.\n",
    "    - Example 2: If using a separate group of users that explicitly opt into a beta program for the newer version, there may be issues in detecting changes that may not exist from bias because those users are fundamentally different.\n",
    "    - Example 3: If the data for these two groups were gathered at different times, there might have been external factors that \n",
    "- Using too strict of a p-value. 0.05 doesn't need to be the cutoff, so use whichever value you feel comfortable with.\n",
    "    - [This comic](https://xkcd.com/1478/) shows why strict p-values are silly.\n",
    "    - If a p-value is relatively close to the threshold, you may need to gather more data. In this case that means either waiting a few more days for more users or rolling the new version out to a larger percentage of users.\n",
    "        - It is more difficult to detect statistical significance with more imbalanced groups. You can calculate the number of samples required to detect a statistical significance for a specific change.\n",
    "        \n",
    "        \n",
    "**Examples of other cases where this technique works**\n",
    "- TODO: List these"
   ]
  },
  {
   "cell_type": "markdown",
   "metadata": {},
   "source": [
    "## Statistical Inference: Testing Means\n",
    "\n",
    "- Pick a problem\n",
    "- Provide data\n",
    "- Talk about why certain methods won't work\n",
    "- Talk about method to use\n",
    "- Solve it"
   ]
  },
  {
   "cell_type": "code",
   "execution_count": null,
   "metadata": {},
   "outputs": [],
   "source": []
  },
  {
   "cell_type": "markdown",
   "metadata": {},
   "source": [
    "- Talk about lessons learned"
   ]
  },
  {
   "cell_type": "markdown",
   "metadata": {},
   "source": [
    "### Bayesian Inference\n",
    "- Add onto previous problem\n",
    "- Provide data\n",
    "- Talk about why certain methods won't work\n",
    "- Talk about method to use\n",
    "- Solve it"
   ]
  },
  {
   "cell_type": "code",
   "execution_count": null,
   "metadata": {},
   "outputs": [],
   "source": []
  },
  {
   "cell_type": "markdown",
   "metadata": {},
   "source": [
    "- Talk about lessons learned"
   ]
  },
  {
   "cell_type": "markdown",
   "metadata": {},
   "source": [
    "## Machine Learning: Regression\n",
    "- Pick a problem\n",
    "- Provide data\n",
    "- Talk about why certain methods won't work\n",
    "- Talk about method to use\n",
    "- Solve it\n",
    "\n",
    "The Problem\n",
    "\n",
    "You work for a real estate startup in Boston where the CEO just hired you because he read something about [data scientists being the sexiest job of the 21st century](https://hbr.org/2012/10/data-scientist-the-sexiest-job-of-the-21st-century). For your first project, he wants you to figure out what the real value of houses in Boston are so they can asses the market value of houses currently for sale and purchase houses with a lower asking price in order to sell it for more in the future. Since this is a hip startup with a ping-pong table in the kitchen next to the bean bag chairs, he wants you to use something like blockchain, neural networks, deep learning, or AI that he can brag about to his stakeholders.\n",
    "\n",
    "Because this is a new company, they do not have data for previously sold houses in Boston. Your boss sent you an open source dataset on [1978 house prices in Boston](http://lib.stat.cmu.edu/datasets/boston) that she found in a quick search. Here is a description for the values that were copy/pasted from [the documentation](https://www.cs.toronto.edu/~delve/data/boston/bostonDetail.html):\n",
    "\n",
    "- **CRIM:** Per capita crime rate by town\n",
    "- **ZN:** Proportion of residential land zoned for lots over 25,000 sq.ft.\n",
    "- **INDUS:** Proportion of non-retail business acres per town.\n",
    "- **CHAS:** Charles River dummy variable (1 if tract bounds river; 0 otherwise)\n",
    "- **NOX:** Nitric oxides concentration (parts per 10 million)\n",
    "- **RM:** Average number of rooms per dwelling\n",
    "- **AGE:** Proportion of owner-occupied units built prior to 1940\n",
    "- **DIS:** Weighted distances to five Boston employment centers\n",
    "- **RAD:** Index of accessibility to radial highways\n",
    "- **TAX:** Full-value property-tax rate per \\$10,000\n",
    "- **PTRATIO:** Pupil-teacher ratio by town\n",
    "- **B:** $1000(Bk - 0.63)^2$ where Bk is the proportion of blacks by town\n",
    "    - **Question:** Is this an ethical variable to use? Why aren't other ethnicities represented? How should you handle it?\n",
    "- **LSTAT:** \\% lower status of the population\n",
    "- **MEDV:** Median value of owner-occupied homes in \\$1,000’s\n",
    "\n",
    "How do you solve this using the data you were provided with?\n",
    "\n",
    "[Answer](https://en.wikipedia.org/wiki/Regression_analysis)"
   ]
  },
  {
   "cell_type": "code",
   "execution_count": 3,
   "metadata": {
    "ExecuteTime": {
     "end_time": "2019-02-24T02:28:37.026778Z",
     "start_time": "2019-02-24T02:28:36.990781Z"
    }
   },
   "outputs": [
    {
     "name": "stdout",
     "output_type": "stream",
     "text": [
      "Number of observations: 506\n"
     ]
    },
    {
     "data": {
      "text/html": [
       "<div>\n",
       "<style scoped>\n",
       "    .dataframe tbody tr th:only-of-type {\n",
       "        vertical-align: middle;\n",
       "    }\n",
       "\n",
       "    .dataframe tbody tr th {\n",
       "        vertical-align: top;\n",
       "    }\n",
       "\n",
       "    .dataframe thead th {\n",
       "        text-align: right;\n",
       "    }\n",
       "</style>\n",
       "<table border=\"1\" class=\"dataframe\">\n",
       "  <thead>\n",
       "    <tr style=\"text-align: right;\">\n",
       "      <th></th>\n",
       "      <th>CRIM</th>\n",
       "      <th>ZN</th>\n",
       "      <th>INDUS</th>\n",
       "      <th>CHAS</th>\n",
       "      <th>NOX</th>\n",
       "      <th>RM</th>\n",
       "      <th>AGE</th>\n",
       "      <th>DIS</th>\n",
       "      <th>RAD</th>\n",
       "      <th>TAX</th>\n",
       "      <th>PTRATIO</th>\n",
       "      <th>LSTAT</th>\n",
       "      <th>MedianPrice</th>\n",
       "    </tr>\n",
       "  </thead>\n",
       "  <tbody>\n",
       "    <tr>\n",
       "      <th>0</th>\n",
       "      <td>0.00632</td>\n",
       "      <td>18.0</td>\n",
       "      <td>2.31</td>\n",
       "      <td>0.0</td>\n",
       "      <td>0.538</td>\n",
       "      <td>6.575</td>\n",
       "      <td>65.2</td>\n",
       "      <td>4.0900</td>\n",
       "      <td>1.0</td>\n",
       "      <td>296.0</td>\n",
       "      <td>15.3</td>\n",
       "      <td>4.98</td>\n",
       "      <td>24.0</td>\n",
       "    </tr>\n",
       "    <tr>\n",
       "      <th>1</th>\n",
       "      <td>0.02731</td>\n",
       "      <td>0.0</td>\n",
       "      <td>7.07</td>\n",
       "      <td>0.0</td>\n",
       "      <td>0.469</td>\n",
       "      <td>6.421</td>\n",
       "      <td>78.9</td>\n",
       "      <td>4.9671</td>\n",
       "      <td>2.0</td>\n",
       "      <td>242.0</td>\n",
       "      <td>17.8</td>\n",
       "      <td>9.14</td>\n",
       "      <td>21.6</td>\n",
       "    </tr>\n",
       "    <tr>\n",
       "      <th>2</th>\n",
       "      <td>0.02729</td>\n",
       "      <td>0.0</td>\n",
       "      <td>7.07</td>\n",
       "      <td>0.0</td>\n",
       "      <td>0.469</td>\n",
       "      <td>7.185</td>\n",
       "      <td>61.1</td>\n",
       "      <td>4.9671</td>\n",
       "      <td>2.0</td>\n",
       "      <td>242.0</td>\n",
       "      <td>17.8</td>\n",
       "      <td>4.03</td>\n",
       "      <td>34.7</td>\n",
       "    </tr>\n",
       "    <tr>\n",
       "      <th>3</th>\n",
       "      <td>0.03237</td>\n",
       "      <td>0.0</td>\n",
       "      <td>2.18</td>\n",
       "      <td>0.0</td>\n",
       "      <td>0.458</td>\n",
       "      <td>6.998</td>\n",
       "      <td>45.8</td>\n",
       "      <td>6.0622</td>\n",
       "      <td>3.0</td>\n",
       "      <td>222.0</td>\n",
       "      <td>18.7</td>\n",
       "      <td>2.94</td>\n",
       "      <td>33.4</td>\n",
       "    </tr>\n",
       "    <tr>\n",
       "      <th>4</th>\n",
       "      <td>0.06905</td>\n",
       "      <td>0.0</td>\n",
       "      <td>2.18</td>\n",
       "      <td>0.0</td>\n",
       "      <td>0.458</td>\n",
       "      <td>7.147</td>\n",
       "      <td>54.2</td>\n",
       "      <td>6.0622</td>\n",
       "      <td>3.0</td>\n",
       "      <td>222.0</td>\n",
       "      <td>18.7</td>\n",
       "      <td>5.33</td>\n",
       "      <td>36.2</td>\n",
       "    </tr>\n",
       "  </tbody>\n",
       "</table>\n",
       "</div>"
      ],
      "text/plain": [
       "      CRIM    ZN  INDUS  CHAS    NOX     RM   AGE     DIS  RAD    TAX  \\\n",
       "0  0.00632  18.0   2.31   0.0  0.538  6.575  65.2  4.0900  1.0  296.0   \n",
       "1  0.02731   0.0   7.07   0.0  0.469  6.421  78.9  4.9671  2.0  242.0   \n",
       "2  0.02729   0.0   7.07   0.0  0.469  7.185  61.1  4.9671  2.0  242.0   \n",
       "3  0.03237   0.0   2.18   0.0  0.458  6.998  45.8  6.0622  3.0  222.0   \n",
       "4  0.06905   0.0   2.18   0.0  0.458  7.147  54.2  6.0622  3.0  222.0   \n",
       "\n",
       "   PTRATIO  LSTAT  MedianPrice  \n",
       "0     15.3   4.98         24.0  \n",
       "1     17.8   9.14         21.6  \n",
       "2     17.8   4.03         34.7  \n",
       "3     18.7   2.94         33.4  \n",
       "4     18.7   5.33         36.2  "
      ]
     },
     "execution_count": 3,
     "metadata": {},
     "output_type": "execute_result"
    }
   ],
   "source": [
    "# Loading in the housing data from scikit-learn\n",
    "housing_raw_data = datasets.load_boston()\n",
    "\n",
    "# Putting the features into a data frame\n",
    "housing_data = pd.DataFrame(data=housing_raw_data.data,\n",
    "                            columns=housing_raw_data.feature_names)\n",
    "\n",
    "# Adding the label to the data frame\n",
    "housing_data['MedianPrice'] = housing_raw_data.target\n",
    "\n",
    "# Removing the ethically questionable column\n",
    "housing_data.drop('B', axis=1, inplace=True)\n",
    "\n",
    "# Reporting the number of records and \n",
    "print('Number of observations:', housing_data.shape[0])\n",
    "housing_data.head()"
   ]
  },
  {
   "cell_type": "code",
   "execution_count": 4,
   "metadata": {
    "ExecuteTime": {
     "end_time": "2019-02-24T02:28:40.923516Z",
     "start_time": "2019-02-24T02:28:37.029782Z"
    }
   },
   "outputs": [
    {
     "name": "stdout",
     "output_type": "stream",
     "text": [
      "Mean Absolute Error: 4.622568060797915\n"
     ]
    },
    {
     "name": "stderr",
     "output_type": "stream",
     "text": [
      "C:\\ProgramData\\Anaconda3\\lib\\site-packages\\sklearn\\neural_network\\multilayer_perceptron.py:562: ConvergenceWarning: Stochastic Optimizer: Maximum iterations (200) reached and the optimization hasn't converged yet.\n",
      "  % self.max_iter, ConvergenceWarning)\n"
     ]
    },
    {
     "data": {
      "image/png": "[encoded data removed]",
      "text/plain": [
       "<Figure size 504x504 with 1 Axes>"
      ]
     },
     "metadata": {},
     "output_type": "display_data"
    }
   ],
   "source": [
    "from sklearn.model_selection import KFold, cross_val_score\n",
    "from sklearn.neural_network import MLPRegressor\n",
    "\n",
    "# Specifying the features and the label\n",
    "X = housing_data.drop('MedianPrice', axis=1)  # Features\n",
    "y = housing_data['MedianPrice']  # Label\n",
    "\n",
    "# Instantiating a neural network with the default parameters\n",
    "model = MLPRegressor(random_state=46)  # Setting a seed so we get the same results every time\n",
    "\n",
    "# Using k-fold cross validation to fit/evaluate the model\n",
    "# This is because there are so few observations, so a simple train/test split is more likely to be misleading\n",
    "# It's typically best to use k-folds cross validation if you have less than 300,000 observations\n",
    "k_fold = KFold(n_splits=10, shuffle=True, random_state=46)  # Instantiating the k-folds object with 10 folds\n",
    "k_fold_scores = cross_val_score(model, X, y, cv=k_fold,  # Fitting the k-folds object\n",
    "                                n_jobs=-1,  # Parallel processing for all cores on your CPU\n",
    "                                scoring='neg_mean_absolute_error')  # Specifying mean absolute error as the metric to report\n",
    "neural_network_mean_absolute_error = abs(np.mean(k_fold_scores))  # Gathering the average mean absolute error from the folds\n",
    "print('Mean Absolute Error:', neural_network_mean_absolute_error)  # Reporting the mean absolute error\n",
    "\n",
    "# Fitting the model on the entire dataset and producing predictions\n",
    "model.fit(X, y)\n",
    "housing_data['Prediction'] = model.predict(X)\n",
    "\n",
    "# Plotting the predicted vs. actuals in order to observe the bias and variance\n",
    "plt.figure(figsize=(7, 7))\n",
    "plt.scatter(x=housing_data['MedianPrice'], y=housing_data['Prediction'])\n",
    "plt.xlabel('Median Price')\n",
    "plt.ylabel('Predicted Median Price')\n",
    "\n",
    "# Plotting a diagonal line to better differentiate the actuals vs. predicted\n",
    "line_coords = np.arange(housing_data[['MedianPrice', 'Prediction']].min().min(), housing_data[['MedianPrice', 'Prediction']].max().max())\n",
    "plt.plot(line_coords, line_coords,  # X and y points\n",
    "             color='darkorange', linestyle='--')\n",
    "plt.title('Actual vs. Predicted')\n",
    "plt.show()"
   ]
  },
  {
   "cell_type": "markdown",
   "metadata": {},
   "source": [
    "You present this to your boss, but she was a little disappointed that you were only able to predict within \\\\$4,600 of the median price on average. Additionally, she pointed out that your model is not very good at predicting the price of more expensive houses (meaning your model has a high bias) and that your model has cases where it will predict either \\\\$8,000 or \\\\$35,000 for a house that actually costs \\\\$23,000 (meaning your model has a high variance). She asked you to ignore the CEO's request for something involving neural networks/deep learning and try a few other techniques instead to see if the predictive performance can be increased.\n",
    "\n",
    "First, you heard that it's always important to use a baseline model like linear or logistic regression, so you try linear regression since this is a regression task:"
   ]
  },
  {
   "cell_type": "code",
   "execution_count": 5,
   "metadata": {
    "ExecuteTime": {
     "end_time": "2019-02-24T02:28:41.219517Z",
     "start_time": "2019-02-24T02:28:40.925519Z"
    }
   },
   "outputs": [
    {
     "name": "stdout",
     "output_type": "stream",
     "text": [
      "Mean Absolute Error: 3.5030214945609366\n"
     ]
    },
    {
     "data": {
      "image/png": "[encoded data removed]",
      "text/plain": [
       "<Figure size 504x504 with 1 Axes>"
      ]
     },
     "metadata": {},
     "output_type": "display_data"
    }
   ],
   "source": [
    "from sklearn.linear_model import LinearRegression\n",
    "\n",
    "# Instantiating a linear regression model\n",
    "model = LinearRegression()\n",
    "\n",
    "# Using k-fold cross validation to fit/evaluate the model\n",
    "# This is because there are so few observations, so a simple train/test split is more likely to be misleading\n",
    "# It's typically best to use k-folds cross validation if you have less than 300,000 observations\n",
    "k_fold = KFold(n_splits=10, shuffle=True, random_state=46)  # Instantiating the k-folds object with 10 folds\n",
    "k_fold_scores = cross_val_score(model, X, y, cv=k_fold,  # Fitting the k-folds object\n",
    "                                n_jobs=-1,  # Parallel processing for all cores on your CPU\n",
    "                                scoring='neg_mean_absolute_error')  # Specifying mean absolute error as the metric to report\n",
    "linear_regression_mean_absolute_error = abs(np.mean(k_fold_scores))  # Gathering the average mean absolute error from the folds\n",
    "print('Mean Absolute Error:', linear_regression_mean_absolute_error)  # Reporting the mean absolute error\n",
    "\n",
    "# Fitting the model on the entire dataset and producing predictions\n",
    "model.fit(X, y)\n",
    "housing_data['Prediction'] = model.predict(X)\n",
    "\n",
    "# Plotting the predicted vs. actuals\n",
    "plt.figure(figsize=(7, 7))\n",
    "plt.scatter(x=housing_data['MedianPrice'], y=housing_data['Prediction'])\n",
    "plt.xlabel('Median Price')\n",
    "plt.ylabel('Predicted Median Price')\n",
    "\n",
    "# Plotting a diagonal line to better differentiate the actuals vs. predicted\n",
    "line_coords = np.arange(housing_data[['MedianPrice', 'Prediction']].min().min(), housing_data[['MedianPrice', 'Prediction']].max().max())\n",
    "plt.plot(line_coords, line_coords,  # X and y points\n",
    "             color='darkorange', linestyle='--')\n",
    "plt.title('Actual vs. Predicted')\n",
    "plt.show()"
   ]
  },
  {
   "cell_type": "markdown",
   "metadata": {},
   "source": [
    "That was already a sizable increase in mean absolute error (MAE) due to a decrease in variance, but the model is still having bias issues by under-predicting the houses at the upper end.\n",
    "\n",
    "Next, you remember hearing someone say \"if you haven't picked a favorite machine learning algorithm, pick random forests\", so you decide to try that."
   ]
  },
  {
   "cell_type": "code",
   "execution_count": 6,
   "metadata": {
    "ExecuteTime": {
     "end_time": "2019-02-24T02:28:41.715530Z",
     "start_time": "2019-02-24T02:28:41.221518Z"
    }
   },
   "outputs": [
    {
     "name": "stdout",
     "output_type": "stream",
     "text": [
      "Mean Absolute Error: 2.2621402352941176\n"
     ]
    },
    {
     "data": {
      "image/png": "[encoded data removed]",
      "text/plain": [
       "<Figure size 504x504 with 1 Axes>"
      ]
     },
     "metadata": {},
     "output_type": "display_data"
    }
   ],
   "source": [
    "from sklearn.ensemble import RandomForestRegressor\n",
    "\n",
    "# Instantiating a random forest model\n",
    "model = RandomForestRegressor(n_estimators=25, random_state=46)\n",
    "\n",
    "# Using k-fold cross validation to fit/evaluate the model\n",
    "# This is because there are so few observations, so a simple train/test split is more likely to be misleading\n",
    "# It's typically best to use k-folds cross validation if you have less than 300,000 observations\n",
    "k_fold = KFold(n_splits=10, shuffle=True, random_state=46)  # Instantiating the k-folds object with 10 folds\n",
    "k_fold_scores = cross_val_score(model, X, y, cv=k_fold,  # Fitting the k-folds object\n",
    "                                n_jobs=-1,  # Parallel processing for all cores on your CPU\n",
    "                                scoring='neg_mean_absolute_error')  # Specifying mean absolute error as the metric to report\n",
    "random_forest_mean_absolute_error = abs(np.mean(k_fold_scores))  # Gathering the average mean absolute error from the folds\n",
    "print('Mean Absolute Error:', random_forest_mean_absolute_error)  # Reporting the mean absolute error\n",
    "\n",
    "# Fitting the model on the entire dataset and producing predictions\n",
    "model.fit(X, y)\n",
    "housing_data['Prediction'] = model.predict(X)\n",
    "\n",
    "# Plotting the predicted vs. actuals\n",
    "plt.figure(figsize=(7, 7))\n",
    "plt.scatter(x=housing_data['MedianPrice'], y=housing_data['Prediction'])\n",
    "plt.xlabel('Median Price')\n",
    "plt.ylabel('Predicted Median Price')\n",
    "\n",
    "# Plotting a diagonal line to better differentiate the actuals vs. predicted\n",
    "line_coords = np.arange(housing_data[['MedianPrice', 'Prediction']].min().min(), housing_data[['MedianPrice', 'Prediction']].max().max())\n",
    "plt.plot(line_coords, line_coords,  # X and y points\n",
    "             color='darkorange', linestyle='--')\n",
    "plt.title('Actual vs. Predicted')\n",
    "plt.show()"
   ]
  },
  {
   "cell_type": "markdown",
   "metadata": {},
   "source": [
    "The random forest was able to double the performance from the neural network! You take this model to your boss, and she is pleased with the performance. She then asks you to productionalize/operationalize this model, which means put it into production to start making predictions on house listings. This sounds great, but you then realize that there are a couple of issues. How are you going to figure out the nitric oxide concentration or the student-pupil ratio per town? What does % lower status of the population even mean? Wait...if the label is the median house value, is this dataset not even for individual houses?!\n",
    "\n",
    "Frustrated and embarrassed, you go back to the drawing board to start over."
   ]
  },
  {
   "cell_type": "markdown",
   "metadata": {},
   "source": [
    "**What we did**\n",
    "\n",
    "- Trained several supervised machine learning models to predict house prices.\n",
    "    - Specifically using regression, the subset of supervised machine learning that is used to predict a number.\n",
    "- Used cross validation to assess the [generalization error](https://en.wikipedia.org/wiki/Generalization_error) of the models.\n",
    "    - Specifically, used $k$-folds cross validation to verify that our models weren't achieving good or bad performance by chance because of the low number of observations.\n",
    "- Examined the bias and variance of our models with plots to see if our models were poor at predicting houses in a certain price range.\n",
    "\n",
    "**What we should have done**\n",
    "\n",
    "- **Push back.** This dataset was not appropriate for the task they were looking to accomplish because it both old and only gave the *median price per town* instead of the individual house prices. The only thing worse than making the wrong decision is being confident in making the wrong decision, which this would have most likely done. \n",
    "    - We should have collected more recent data by either web scraping or paying a provider.\n",
    "    - There is no point in using a cool sounding complex model if a simpler model solves it better and faster.\n",
    "- **Performed an exploratory data analysis** and read the documentation more clearly in order to better understand the data.\n",
    "    - Censured data with the prices\n",
    "- **Feature engineering:** See if there are any additional features we can make from our current features in order to encode additional domain knowledge.\n",
    "- **Hyperparameter tuning:** Rather than use default hyperparameters, try additioanl \n",
    "\n",
    "\n",
    "**Lessons Learned:**\n",
    "- It's ok to push back on requests; especially if there are clear issues with them.\n",
    "- You are the ultimate owner of a problem, so it is up to you to think through everything from end-to-end and raise the issues.\n",
    "- More complex models doesn't always mean more performant models\n",
    "- Think through the problem holistically. Is this how you actually solve it? What data do we have, and what data do we need? How does that cause issues? How will this model perform in the real world? How can I make sure the features I used to train the model are available for the model in production?\n",
    "\n",
    "        \n",
    "**Examples of other cases where this technique works**\n",
    "- TODO: List these"
   ]
  },
  {
   "cell_type": "markdown",
   "metadata": {},
   "source": [
    "## Machine Learning: Classification\n",
    "- Pick a problem\n",
    "- Provide data\n",
    "- Talk about why certain methods won't work\n",
    "- Talk about method to use\n",
    "- Solve it"
   ]
  },
  {
   "cell_type": "code",
   "execution_count": null,
   "metadata": {},
   "outputs": [],
   "source": []
  },
  {
   "cell_type": "markdown",
   "metadata": {},
   "source": [
    "- Talk about lessons learned"
   ]
  },
  {
   "cell_type": "markdown",
   "metadata": {},
   "source": [
    "## Machine Learning: Clustering\n",
    "- Pick a problem\n",
    "- Provide data\n",
    "- Talk about why certain methods won't work\n",
    "- Talk about method to use\n",
    "- Solve it"
   ]
  },
  {
   "cell_type": "code",
   "execution_count": null,
   "metadata": {},
   "outputs": [],
   "source": []
  },
  {
   "cell_type": "markdown",
   "metadata": {},
   "source": [
    "- Talk about lessons learned"
   ]
  },
  {
   "cell_type": "markdown",
   "metadata": {},
   "source": [
    "## Machine Learning: Anomaly Detection?\n",
    "- Pick a problem\n",
    "- Provide data\n",
    "- Talk about why certain methods won't work\n",
    "- Talk about method to use\n",
    "- Solve it"
   ]
  },
  {
   "cell_type": "code",
   "execution_count": null,
   "metadata": {},
   "outputs": [],
   "source": []
  },
  {
   "cell_type": "markdown",
   "metadata": {},
   "source": [
    "- Talk about lessons learned"
   ]
  },
  {
   "cell_type": "markdown",
   "metadata": {},
   "source": [
    "## Causality\n",
    "- Pick a problem\n",
    "- Provide data\n",
    "- Talk about why certain methods won't work\n",
    "- Talk about method to use\n",
    "- Solve it"
   ]
  },
  {
   "cell_type": "code",
   "execution_count": null,
   "metadata": {},
   "outputs": [],
   "source": []
  },
  {
   "cell_type": "markdown",
   "metadata": {},
   "source": [
    "- Talk about lessons learned"
   ]
  },
  {
   "cell_type": "markdown",
   "metadata": {},
   "source": [
    "## Exploratory Data Analysis\n",
    "- Pick a problem\n",
    "- Provide data\n",
    "- Talk about why certain methods won't work\n",
    "- Talk about method to use\n",
    "- Solve it"
   ]
  },
  {
   "cell_type": "code",
   "execution_count": null,
   "metadata": {},
   "outputs": [],
   "source": []
  },
  {
   "cell_type": "markdown",
   "metadata": {},
   "source": [
    "- Talk about lessons learned"
   ]
  },
  {
   "cell_type": "markdown",
   "metadata": {},
   "source": [
    "## Simulations?\n",
    "- Pick a problem\n",
    "- Provide data\n",
    "- Talk about why certain methods won't work\n",
    "- Talk about method to use\n",
    "- Solve it"
   ]
  },
  {
   "cell_type": "code",
   "execution_count": null,
   "metadata": {},
   "outputs": [],
   "source": []
  },
  {
   "cell_type": "markdown",
   "metadata": {},
   "source": [
    "- Talk about lessons learned"
   ]
  },
  {
   "cell_type": "markdown",
   "metadata": {},
   "source": [
    "## Time Series Forecasting?\n",
    "- Pick a problem\n",
    "- Provide data\n",
    "- Talk about why certain methods won't work\n",
    "- Talk about method to use\n",
    "- Solve it"
   ]
  },
  {
   "cell_type": "code",
   "execution_count": null,
   "metadata": {},
   "outputs": [],
   "source": []
  },
  {
   "cell_type": "markdown",
   "metadata": {},
   "source": [
    "- Talk about lessons learned"
   ]
  },
  {
   "cell_type": "code",
   "execution_count": null,
   "metadata": {},
   "outputs": [],
   "source": []
  },
  {
   "cell_type": "markdown",
   "metadata": {},
   "source": [
    "---"
   ]
  },
  {
   "cell_type": "markdown",
   "metadata": {},
   "source": [
    "# Wrap-Up, Summary, and Lessons Learned"
   ]
  },
  {
   "cell_type": "code",
   "execution_count": null,
   "metadata": {},
   "outputs": [],
   "source": []
  }
 ],
 "metadata": {
  "kernelspec": {
   "display_name": "Python 3",
   "language": "python",
   "name": "python3"
  },
  "language_info": {
   "codemirror_mode": {
    "name": "ipython",
    "version": 3
   },
   "file_extension": ".py",
   "mimetype": "text/x-python",
   "name": "python",
   "nbconvert_exporter": "python",
   "pygments_lexer": "ipython3",
   "version": "3.6.6"
  },
  "varInspector": {
   "cols": {
    "lenName": 16,
    "lenType": 16,
    "lenVar": 40
   },
   "kernels_config": {
    "python": {
     "delete_cmd_postfix": "",
     "delete_cmd_prefix": "del ",
     "library": "var_list.py",
     "varRefreshCmd": "print(var_dic_list())"
    },
    "r": {
     "delete_cmd_postfix": ") ",
     "delete_cmd_prefix": "rm(",
     "library": "var_list.r",
     "varRefreshCmd": "cat(var_dic_list()) "
    }
   },
   "types_to_exclude": [
    "module",
    "function",
    "builtin_function_or_method",
    "instance",
    "_Feature"
   ],
   "window_display": false
  }
 },
 "nbformat": 4,
 "nbformat_minor": 2
}
